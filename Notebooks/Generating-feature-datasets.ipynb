{
 "cells": [
  {
   "cell_type": "code",
   "execution_count": 21,
   "metadata": {},
   "outputs": [
    {
     "name": "stdout",
     "output_type": "stream",
     "text": [
      "sklearn: 0.19.1\n",
      "pandas: 0.23.0\n",
      "kerads: 2.1.6\n"
     ]
    }
   ],
   "source": [
    "# HIDE\n",
    "import pandas as pd\n",
    "import numpy as np\n",
    "np.random.seed(7)\n",
    "import matplotlib.pyplot as plt\n",
    "import seaborn as sns\n",
    "sns.set(style=\"white\", palette=\"muted\", color_codes=True, context=\"talk\")\n",
    "from IPython import display\n",
    "%matplotlib inline\n",
    "\n",
    "import sklearn as sk\n",
    "from sklearn.model_selection import train_test_split\n",
    "from sklearn.preprocessing import StandardScaler\n",
    "from sklearn.metrics import accuracy_score, roc_auc_score\n",
    "from sklearn.utils.class_weight import compute_class_weight\n",
    "\n",
    "import keras as ke\n",
    "import keras.backend as K\n",
    "from keras.layers import Input, Dense, Dropout\n",
    "from keras.models import Model\n",
    "from keras.models import load_model\n",
    "\n",
    "\n",
    "create_gif = False\n",
    "\n",
    "# model reconstruction from JSON:\n",
    "from keras.models import model_from_json\n",
    "\n",
    "print(f\"sklearn: {sk.__version__}\")\n",
    "print(f\"pandas: {pd.__version__}\")\n",
    "print(f\"kerads: {ke.__version__}\")\n",
    "\n",
    "\n",
    "import src.my_functions_product1 as myFC\n",
    "import matplotlib.pyplot as plt\n"
   ]
  },
  {
   "cell_type": "code",
   "execution_count": 22,
   "metadata": {},
   "outputs": [
    {
     "data": {
      "text/plain": [
       "\"# reading the file from a path and list the field names and input columns of interest\\n\\n#path = 'data/adult/adult.data'\\n#output_path = 'Feature-Datasets/adult/'\\n#arc_id = 'user1'\\n\\n\\npath = 'data/bank/bank.csv'\\noutput_path = 'Feature-Datasets/bank/'\\narc_id = 'user1'\\n\\nX_df, Ybin, Zbin, result_fname = myFC.read_process_data_output_bias(path)\""
      ]
     },
     "execution_count": 22,
     "metadata": {},
     "output_type": "execute_result"
    }
   ],
   "source": [
    "\"\"\"# reading the file from a path and list the field names and input columns of interest\n",
    "\n",
    "#path = 'data/adult/adult.data'\n",
    "#output_path = 'Feature-Datasets/adult/'\n",
    "#arc_id = 'user1'\n",
    "\n",
    "\n",
    "path = 'data/bank/bank.csv'\n",
    "output_path = 'Feature-Datasets/bank/'\n",
    "arc_id = 'user1'\n",
    "\n",
    "X_df, Ybin, Zbin, result_fname = myFC.read_process_data_output_bias(path)\"\"\""
   ]
  },
  {
   "cell_type": "code",
   "execution_count": 23,
   "metadata": {},
   "outputs": [
    {
     "name": "stdout",
     "output_type": "stream",
     "text": [
      "Columns in your data are:\n",
      "  ['age' 'job' 'marital' 'education' 'default' 'housing' 'loan' 'contact'\n",
      " 'month' 'day_of_week' 'duration' 'campaign' 'pdays' 'previous' 'poutcome'\n",
      " 'emp.var.rate' 'cons.price.idx' 'cons.conf.idx' 'euribor3m' 'nr.employed'\n",
      " 'y']\n",
      "burasi1\n",
      "age\n",
      "age\n",
      "burasi2\n",
      "target field:y\n",
      "target field:y Label 0-1 no, yes\n",
      "sensitive field:age Class 0-1 <25 or >60, 25-60\n",
      "not to consider fields ['age']\n",
      "result file:  Data--bank--bank.csv_CP_N_T_y_no_yes_S_age_<25_or_>60_25-60_\n",
      "Target field: p_rule_for_Y1 29.89\n"
     ]
    }
   ],
   "source": [
    "# reading the file from a path and list the field names and input columns of interest\n",
    "\n",
    "input_option = 'not manual' #'manual' or 'not manual'\n",
    "\n",
    "#--------------------------------------\n",
    "if False:\n",
    "    \n",
    "    path = 'Data/adult/'\n",
    "    data_filename = 'adult.data'\n",
    "    cprediction_field_exists = 'N'\n",
    "    cprediction_field = ['N']\n",
    "    target_field = ' <=50K'\n",
    "    target_label0 = ' <=50K'\n",
    "    target_label1 = ' >50K'\n",
    "    sensitive_field = ' Male'\n",
    "    not_to_consider_fields = [' Male']\n",
    "    sensitive_class0 = ' Male'\n",
    "    sensitive_class1 = ' Female'\n",
    "    good_outcome = 'Income >50K'\n",
    "    output_path = 'Feature-Datasets/bank/'\n",
    "\n",
    "\n",
    "#--------------------------------------\n",
    "if True:\n",
    "\n",
    "    path = 'Data/bank/'\n",
    "    data_filename = 'bank.csv'\n",
    "    cprediction_field_exists = 'N'\n",
    "    cprediction_field = ['N']\n",
    "    target_field = 'y'\n",
    "    target_label0 = 'no'\n",
    "    target_label1 = 'yes'\n",
    "    sensitive_field = 'age'\n",
    "    not_to_consider_fields = ['age']\n",
    "    sensitive_class0 = '<25 or >60'\n",
    "    sensitive_class1 = '25-60'\n",
    "    good_outcome = 'Subsribed a deposit'\n",
    "    output_path = 'Feature-Datasets/bank/'\n",
    "\n",
    "\n",
    "#--------------------------------------\n",
    "\n",
    "\n",
    "X_df, Ybin, Zbin, result_fname = myFC.read_process_data_output_bias(path+data_filename, input_option,cprediction_field_exists,cprediction_field,target_field, sensitive_field, not_to_consider_fields,sensitive_class0,sensitive_class1,target_label0,target_label1)   \n",
    "\n"
   ]
  },
  {
   "cell_type": "markdown",
   "metadata": {},
   "source": [
    "### Feature Creation"
   ]
  },
  {
   "cell_type": "code",
   "execution_count": 24,
   "metadata": {},
   "outputs": [],
   "source": [
    "X_train, X_test, y_train, y_test, Z_train, Z_test = myFC.feature_creation(X_df, Ybin, Zbin)"
   ]
  },
  {
   "cell_type": "code",
   "execution_count": 25,
   "metadata": {},
   "outputs": [],
   "source": [
    "feature_train_df = X_train.copy()\n",
    "feature_train_df['y'] = y_train\n",
    "feature_train_df['Z'] = Z_train\n",
    "feature_train_df.to_csv(output_path+'train'+'.csv', index=False)\n",
    "\n",
    "feature_test_df = X_test.copy()\n",
    "feature_test_df['y'] = y_test\n",
    "feature_test_df['Z'] = Z_test\n",
    "feature_test_df.to_csv(output_path+'test'+'.csv', index=False)\n",
    "\n",
    "\n"
   ]
  },
  {
   "cell_type": "code",
   "execution_count": 26,
   "metadata": {},
   "outputs": [
    {
     "data": {
      "text/html": [
       "<div>\n",
       "<style scoped>\n",
       "    .dataframe tbody tr th:only-of-type {\n",
       "        vertical-align: middle;\n",
       "    }\n",
       "\n",
       "    .dataframe tbody tr th {\n",
       "        vertical-align: top;\n",
       "    }\n",
       "\n",
       "    .dataframe thead th {\n",
       "        text-align: right;\n",
       "    }\n",
       "</style>\n",
       "<table border=\"1\" class=\"dataframe\">\n",
       "  <thead>\n",
       "    <tr style=\"text-align: right;\">\n",
       "      <th></th>\n",
       "      <th>duration</th>\n",
       "      <th>campaign</th>\n",
       "      <th>pdays</th>\n",
       "      <th>previous</th>\n",
       "      <th>emp.var.rate</th>\n",
       "      <th>cons.price.idx</th>\n",
       "      <th>cons.conf.idx</th>\n",
       "      <th>euribor3m</th>\n",
       "      <th>nr.employed</th>\n",
       "      <th>job_blue-collar</th>\n",
       "      <th>...</th>\n",
       "      <th>month_may</th>\n",
       "      <th>month_nov</th>\n",
       "      <th>month_oct</th>\n",
       "      <th>month_sep</th>\n",
       "      <th>day_of_week_mon</th>\n",
       "      <th>day_of_week_thu</th>\n",
       "      <th>day_of_week_tue</th>\n",
       "      <th>day_of_week_wed</th>\n",
       "      <th>poutcome_nonexistent</th>\n",
       "      <th>poutcome_success</th>\n",
       "    </tr>\n",
       "  </thead>\n",
       "  <tbody>\n",
       "    <tr>\n",
       "      <th>36449</th>\n",
       "      <td>-0.719636</td>\n",
       "      <td>-0.202049</td>\n",
       "      <td>0.194542</td>\n",
       "      <td>1.640574</td>\n",
       "      <td>-1.896503</td>\n",
       "      <td>-1.057758</td>\n",
       "      <td>-0.051736</td>\n",
       "      <td>-1.356397</td>\n",
       "      <td>-1.256373</td>\n",
       "      <td>-0.537342</td>\n",
       "      <td>...</td>\n",
       "      <td>-0.704739</td>\n",
       "      <td>-0.334824</td>\n",
       "      <td>-0.130913</td>\n",
       "      <td>-0.115691</td>\n",
       "      <td>-0.511523</td>\n",
       "      <td>-0.516882</td>\n",
       "      <td>2.026106</td>\n",
       "      <td>-0.497434</td>\n",
       "      <td>-2.519871</td>\n",
       "      <td>-0.183944</td>\n",
       "    </tr>\n",
       "    <tr>\n",
       "      <th>33073</th>\n",
       "      <td>-0.362081</td>\n",
       "      <td>-0.202049</td>\n",
       "      <td>0.194542</td>\n",
       "      <td>-0.346019</td>\n",
       "      <td>-1.195943</td>\n",
       "      <td>-1.178759</td>\n",
       "      <td>-1.222170</td>\n",
       "      <td>-1.339684</td>\n",
       "      <td>-0.939519</td>\n",
       "      <td>-0.537342</td>\n",
       "      <td>...</td>\n",
       "      <td>1.418965</td>\n",
       "      <td>-0.334824</td>\n",
       "      <td>-0.130913</td>\n",
       "      <td>-0.115691</td>\n",
       "      <td>-0.511523</td>\n",
       "      <td>-0.516882</td>\n",
       "      <td>2.026106</td>\n",
       "      <td>-0.497434</td>\n",
       "      <td>0.396846</td>\n",
       "      <td>-0.183944</td>\n",
       "    </tr>\n",
       "    <tr>\n",
       "      <th>11656</th>\n",
       "      <td>-0.505103</td>\n",
       "      <td>4.202676</td>\n",
       "      <td>0.194542</td>\n",
       "      <td>-0.346019</td>\n",
       "      <td>0.842048</td>\n",
       "      <td>1.538577</td>\n",
       "      <td>-0.268483</td>\n",
       "      <td>0.774274</td>\n",
       "      <td>0.845379</td>\n",
       "      <td>-0.537342</td>\n",
       "      <td>...</td>\n",
       "      <td>-0.704739</td>\n",
       "      <td>-0.334824</td>\n",
       "      <td>-0.130913</td>\n",
       "      <td>-0.115691</td>\n",
       "      <td>-0.511523</td>\n",
       "      <td>-0.516882</td>\n",
       "      <td>-0.493558</td>\n",
       "      <td>-0.497434</td>\n",
       "      <td>0.396846</td>\n",
       "      <td>-0.183944</td>\n",
       "    </tr>\n",
       "    <tr>\n",
       "      <th>5510</th>\n",
       "      <td>-0.395955</td>\n",
       "      <td>-0.569109</td>\n",
       "      <td>0.194542</td>\n",
       "      <td>-0.346019</td>\n",
       "      <td>0.650987</td>\n",
       "      <td>0.724413</td>\n",
       "      <td>0.901952</td>\n",
       "      <td>0.715489</td>\n",
       "      <td>0.332048</td>\n",
       "      <td>-0.537342</td>\n",
       "      <td>...</td>\n",
       "      <td>1.418965</td>\n",
       "      <td>-0.334824</td>\n",
       "      <td>-0.130913</td>\n",
       "      <td>-0.115691</td>\n",
       "      <td>1.954948</td>\n",
       "      <td>-0.516882</td>\n",
       "      <td>-0.493558</td>\n",
       "      <td>-0.497434</td>\n",
       "      <td>0.396846</td>\n",
       "      <td>-0.183944</td>\n",
       "    </tr>\n",
       "    <tr>\n",
       "      <th>37348</th>\n",
       "      <td>-0.215296</td>\n",
       "      <td>-0.569109</td>\n",
       "      <td>0.194542</td>\n",
       "      <td>-0.346019</td>\n",
       "      <td>-1.896503</td>\n",
       "      <td>-2.374941</td>\n",
       "      <td>1.985688</td>\n",
       "      <td>-1.574824</td>\n",
       "      <td>-1.256373</td>\n",
       "      <td>-0.537342</td>\n",
       "      <td>...</td>\n",
       "      <td>-0.704739</td>\n",
       "      <td>-0.334824</td>\n",
       "      <td>-0.130913</td>\n",
       "      <td>-0.115691</td>\n",
       "      <td>-0.511523</td>\n",
       "      <td>-0.516882</td>\n",
       "      <td>2.026106</td>\n",
       "      <td>-0.497434</td>\n",
       "      <td>0.396846</td>\n",
       "      <td>-0.183944</td>\n",
       "    </tr>\n",
       "  </tbody>\n",
       "</table>\n",
       "<p>5 rows × 52 columns</p>\n",
       "</div>"
      ],
      "text/plain": [
       "       duration  campaign     pdays  previous  emp.var.rate  cons.price.idx  \\\n",
       "36449 -0.719636 -0.202049  0.194542  1.640574     -1.896503       -1.057758   \n",
       "33073 -0.362081 -0.202049  0.194542 -0.346019     -1.195943       -1.178759   \n",
       "11656 -0.505103  4.202676  0.194542 -0.346019      0.842048        1.538577   \n",
       "5510  -0.395955 -0.569109  0.194542 -0.346019      0.650987        0.724413   \n",
       "37348 -0.215296 -0.569109  0.194542 -0.346019     -1.896503       -2.374941   \n",
       "\n",
       "       cons.conf.idx  euribor3m  nr.employed  job_blue-collar  \\\n",
       "36449      -0.051736  -1.356397    -1.256373        -0.537342   \n",
       "33073      -1.222170  -1.339684    -0.939519        -0.537342   \n",
       "11656      -0.268483   0.774274     0.845379        -0.537342   \n",
       "5510        0.901952   0.715489     0.332048        -0.537342   \n",
       "37348       1.985688  -1.574824    -1.256373        -0.537342   \n",
       "\n",
       "             ...         month_may  month_nov  month_oct  month_sep  \\\n",
       "36449        ...         -0.704739  -0.334824  -0.130913  -0.115691   \n",
       "33073        ...          1.418965  -0.334824  -0.130913  -0.115691   \n",
       "11656        ...         -0.704739  -0.334824  -0.130913  -0.115691   \n",
       "5510         ...          1.418965  -0.334824  -0.130913  -0.115691   \n",
       "37348        ...         -0.704739  -0.334824  -0.130913  -0.115691   \n",
       "\n",
       "       day_of_week_mon  day_of_week_thu  day_of_week_tue  day_of_week_wed  \\\n",
       "36449        -0.511523        -0.516882         2.026106        -0.497434   \n",
       "33073        -0.511523        -0.516882         2.026106        -0.497434   \n",
       "11656        -0.511523        -0.516882        -0.493558        -0.497434   \n",
       "5510          1.954948        -0.516882        -0.493558        -0.497434   \n",
       "37348        -0.511523        -0.516882         2.026106        -0.497434   \n",
       "\n",
       "       poutcome_nonexistent  poutcome_success  \n",
       "36449             -2.519871         -0.183944  \n",
       "33073              0.396846         -0.183944  \n",
       "11656              0.396846         -0.183944  \n",
       "5510               0.396846         -0.183944  \n",
       "37348              0.396846         -0.183944  \n",
       "\n",
       "[5 rows x 52 columns]"
      ]
     },
     "execution_count": 26,
     "metadata": {},
     "output_type": "execute_result"
    }
   ],
   "source": [
    "X_train.head(5)"
   ]
  },
  {
   "cell_type": "markdown",
   "metadata": {},
   "source": [
    "### Setting up architectures"
   ]
  },
  {
   "cell_type": "code",
   "execution_count": 27,
   "metadata": {},
   "outputs": [],
   "source": [
    "#==============================================================================\n",
    "def User_Classifier_arch(n_features):\n",
    "    inputs = Input(shape=(n_features,))\n",
    "    dense1 = Dense(32, activation='relu')(inputs)\n",
    "    dropout1 = Dropout(0.2)(dense1)\n",
    "    dense2 = Dense(32, activation='relu')(dropout1)\n",
    "    dropout2 = Dropout(0.2)(dense2)\n",
    "    dense3 = Dense(32, activation=\"relu\")(dropout2)\n",
    "    dropout3 = Dropout(0.2)(dense3)\n",
    "    dense4 = Dense(32, activation=\"relu\")(dropout3)\n",
    "    dropout4 = Dropout(0.2)(dense4)\n",
    "    outputs = Dense(1, activation='sigmoid')(dropout4)\n",
    "    model = Model(inputs=[inputs], outputs=[outputs])\n",
    "    return model    \n",
    "#==============================================================================\n",
    "def User_Adversary_arch(inputs):\n",
    "    dense1 = Dense(32, activation='relu')(inputs)\n",
    "    dense2 = Dense(32, activation='relu')(dense1)\n",
    "    dense3 = Dense(32, activation='relu')(dense2)\n",
    "    dense4 = Dense(32, activation=\"relu\")(dense3)\n",
    "    outputs = Dense(1, activation='sigmoid')(dense4)\n",
    "    return Model(inputs=[inputs], outputs=outputs)   \n",
    "#==============================================================================\n",
    "def User_main_task_adv_architecture(n_features):\n",
    "    main_task_arch = User_Classifier_arch(n_features)\n",
    "    main_task_arch_json_string = main_task_arch.to_json()\n",
    "    adv_inputs = Input(shape=(1,))\n",
    "    adv_task_arch = User_Adversary_arch(adv_inputs)\n",
    "    adv_task_arch_json_string = adv_task_arch.to_json()\n",
    "    return main_task_arch_json_string, adv_task_arch_json_string  "
   ]
  },
  {
   "cell_type": "markdown",
   "metadata": {},
   "source": [
    "## Saving architectures"
   ]
  },
  {
   "cell_type": "code",
   "execution_count": 28,
   "metadata": {},
   "outputs": [],
   "source": [
    "arc_id = 'user1'\n",
    "\n",
    "n_features = X_train.shape[1]\n",
    "main_task_arch_json_string, adv_task_arch_json_string = User_main_task_adv_architecture(n_features)\n",
    "\n",
    "main_task_arch_json_string_file = output_path+arc_id+'_main_task_arch_json_string_file'+'.txt'\n",
    "with open(main_task_arch_json_string_file,\"wt\") as out_file:\n",
    "    out_file.write(main_task_arch_json_string)\n",
    "    \n",
    "adv_task_arch_json_string_file = output_path+arc_id+'_adv_task_arch_json_string_file'+'.txt'\n",
    "with open(adv_task_arch_json_string_file,\"wt\") as out_file:\n",
    "    out_file.write(adv_task_arch_json_string)    "
   ]
  },
  {
   "cell_type": "markdown",
   "metadata": {},
   "source": [
    "## Model and compile only main task: check prediction results"
   ]
  },
  {
   "cell_type": "code",
   "execution_count": 29,
   "metadata": {},
   "outputs": [
    {
     "name": "stdout",
     "output_type": "stream",
     "text": [
      "Accuracy: 91.29\n"
     ]
    }
   ],
   "source": [
    "h5_file_name = output_path+arc_id+'_main_task_ori_trained_model.h5'\n",
    "save_the_weights = True\n",
    "\n",
    "main_task_accuracy, p_rule_for_Y1, y_pred = myFC.pre_train_main_task(main_task_arch_json_string, X_train, y_train,X_test,y_test,Z_test, save_the_weights=save_the_weights, h5_file_name= h5_file_name)"
   ]
  },
  {
   "cell_type": "code",
   "execution_count": 30,
   "metadata": {},
   "outputs": [
    {
     "data": {
      "text/plain": [
       "'27.17'"
      ]
     },
     "execution_count": 30,
     "metadata": {},
     "output_type": "execute_result"
    }
   ],
   "source": [
    "p_rule_for_Y1\n"
   ]
  },
  {
   "cell_type": "code",
   "execution_count": null,
   "metadata": {},
   "outputs": [],
   "source": []
  }
 ],
 "metadata": {
  "kernelspec": {
   "display_name": "Python 3",
   "language": "python",
   "name": "python3"
  },
  "language_info": {
   "codemirror_mode": {
    "name": "ipython",
    "version": 3
   },
   "file_extension": ".py",
   "mimetype": "text/x-python",
   "name": "python",
   "nbconvert_exporter": "python",
   "pygments_lexer": "ipython3",
   "version": "3.6.5"
  }
 },
 "nbformat": 4,
 "nbformat_minor": 2
}
