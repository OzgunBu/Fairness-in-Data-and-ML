{
 "cells": [
  {
   "cell_type": "code",
   "execution_count": 7,
   "metadata": {},
   "outputs": [
    {
     "name": "stdout",
     "output_type": "stream",
     "text": [
      "sklearn: 0.19.1\n",
      "pandas: 0.23.0\n",
      "kerads: 2.1.6\n"
     ]
    }
   ],
   "source": [
    "# HIDE\n",
    "import pandas as pd\n",
    "import numpy as np\n",
    "np.random.seed(7)\n",
    "import matplotlib.pyplot as plt\n",
    "import seaborn as sns\n",
    "sns.set(style=\"white\", palette=\"muted\", color_codes=True, context=\"talk\")\n",
    "from IPython import display\n",
    "%matplotlib inline\n",
    "\n",
    "import sklearn as sk\n",
    "from sklearn.model_selection import train_test_split\n",
    "from sklearn.preprocessing import StandardScaler\n",
    "from sklearn.metrics import accuracy_score, roc_auc_score\n",
    "from sklearn.utils.class_weight import compute_class_weight\n",
    "\n",
    "import keras as ke\n",
    "import keras.backend as K\n",
    "from keras.layers import Input, Dense, Dropout\n",
    "from keras.models import Model\n",
    "from keras.models import load_model\n",
    "\n",
    "\n",
    "create_gif = False\n",
    "\n",
    "# model reconstruction from JSON:\n",
    "from keras.models import model_from_json\n",
    "\n",
    "print(f\"sklearn: {sk.__version__}\")\n",
    "print(f\"pandas: {pd.__version__}\")\n",
    "print(f\"kerads: {ke.__version__}\")\n",
    "\n",
    "\n",
    "import my_functions_product1 as myFC\n",
    "import matplotlib.pyplot as plt"
   ]
  },
  {
   "cell_type": "code",
   "execution_count": 15,
   "metadata": {},
   "outputs": [
    {
     "name": "stdout",
     "output_type": "stream",
     "text": [
      "Columns in your data are:\n",
      "  ['39' ' State-gov' ' 77516' ' Bachelors' ' 13' ' Never-married'\n",
      " ' Adm-clerical' ' Not-in-family' ' White' ' Male' ' 2174' ' 0' ' 40'\n",
      " ' United-States' ' <=50K']\n",
      "Your possible target columns '{' Male', ' 77516', ' State-gov', ' Bachelors', ' Adm-clerical', ' 40', ' White', ' 2174', ' 0', ' United-States', ' <=50K', '39', ' 13', ' Never-married', ' Not-in-family'}'\n",
      "Which column is your target column?: <=50K\n",
      "Your target column is ' <=50K'\n",
      "-----------------------------------\n",
      "\n",
      "Do you have any column for your current prediction? Please enter Y or N:N\n",
      "Do you have any column for your current prediction? You entered'N'\n",
      "-----------------------------------\n",
      "\n",
      "Your prediction column possible values '{' >50K', ' <=50K'}'\n",
      "Please enter two different labels in the target field: \n",
      "Enter label 0: <=50K\n",
      "Your target label 0 is ' <=50K'\n",
      "-----------------------------------\n",
      "\n",
      "Enter label 1: >50K\n",
      "Your target label 1 is ' >50K'\n",
      "-----------------------------------\n",
      "\n",
      "Your possible Sensitive Attribute columns '{' Male', ' 77516', ' State-gov', ' Bachelors', ' Adm-clerical', ' 40', ' White', ' 2174', ' 0', ' United-States', '39', ' 13', ' Never-married', ' Not-in-family'}'\n",
      "Which column is your sensitive column?: Male\n",
      "Your sensitive attribute column is ' Male'\n",
      "-----------------------------------\n",
      "\n",
      "unique values from the sensitive class:{' Male', ' Female'}\n",
      "Please enter two different classes in the sensisitve field: \n",
      "Enter class 0: Male\n",
      "Your sensitive attribute class 0 is ' Male'\n",
      "-----------------------------------\n",
      "\n",
      "Enter class 1: Female\n",
      "Your sensitive attribute class 1 is ' Female'\n",
      "-----------------------------------\n",
      "\n",
      "Do you want to omit any column from your data? Please enter Y or N:Y\n",
      "Do you have any column for your current prediction? You entered'Y'\n",
      "-----------------------------------\n",
      "\n",
      "Enter a column, you want to omit or enter \"no more\" if you are done: Male\n",
      "Enter a column, you want to omit or enter \"no more\" if you are done: White\n",
      "Enter a column, you want to omit or enter \"no more\" if you are done:no more\n",
      "Columns to be omitted: [' Male', ' White']\n",
      "target field: <=50K\n",
      "target field: <=50K Label 0-1  <=50K,  >50K\n",
      "sensitive field: Male Class 0-1  Male,  Female\n",
      "not to consider fields [' Male', ' White']\n",
      "result file:  data--adult.data_CP_N_T__<=50K__<=50K__>50K_S__Male__Male__Female_\n",
      "Target field: p_rule_for_Y1 35.80\n"
     ]
    }
   ],
   "source": [
    "# reading the file from a path and list the field names and input columns of interest\n",
    "\n",
    "path = 'data/adult.data'\n",
    "output_path = 'Feature-Datasets/adult/'\n",
    "\n",
    "#path = 'data/bank.csv'\n",
    "#output_path = 'Feature-Datasets/bank/'\n",
    "\n",
    "\n",
    "X_df, Ybin, Zbin, result_fname = myFC.read_process_data_output_bias(path)"
   ]
  },
  {
   "cell_type": "markdown",
   "metadata": {},
   "source": [
    "### Feature Creation"
   ]
  },
  {
   "cell_type": "code",
   "execution_count": 16,
   "metadata": {},
   "outputs": [
    {
     "name": "stdout",
     "output_type": "stream",
     "text": [
      "(16280, 95)\n",
      "(16280, 95)\n"
     ]
    }
   ],
   "source": [
    "X_train, X_test, y_train, y_test, Z_train, Z_test = myFC.feature_creation(X_df, Ybin, Zbin)"
   ]
  },
  {
   "cell_type": "code",
   "execution_count": 17,
   "metadata": {},
   "outputs": [],
   "source": [
    "feature_train_df = X_train\n",
    "feature_train_df['y'] = y_train\n",
    "feature_train_df['Z'] = Z_train\n",
    "feature_train_df.to_csv(output_path+'train'+'.csv', index=False)\n",
    "\n",
    "feature_test_df = X_test\n",
    "feature_test_df['y'] = y_test\n",
    "feature_test_df['Z'] = Z_test\n",
    "feature_test_df.to_csv(output_path+'test'+'.csv', index=False)\n",
    "\n",
    "\n"
   ]
  },
  {
   "cell_type": "markdown",
   "metadata": {},
   "source": [
    "### Setting up architectures"
   ]
  },
  {
   "cell_type": "code",
   "execution_count": 18,
   "metadata": {},
   "outputs": [],
   "source": [
    "#==============================================================================\n",
    "def User_Classifier_arch(n_features):\n",
    "    inputs = Input(shape=(n_features,))\n",
    "    dense1 = Dense(32, activation='relu')(inputs)\n",
    "    dropout1 = Dropout(0.2)(dense1)\n",
    "    dense2 = Dense(32, activation='relu')(dropout1)\n",
    "    dropout2 = Dropout(0.2)(dense2)\n",
    "    dense3 = Dense(32, activation=\"relu\")(dropout2)\n",
    "    dropout3 = Dropout(0.2)(dense3)\n",
    "    dense4 = Dense(32, activation=\"relu\")(dropout3)\n",
    "    dropout4 = Dropout(0.2)(dense4)\n",
    "    outputs = Dense(1, activation='sigmoid')(dropout4)\n",
    "    model = Model(inputs=[inputs], outputs=[outputs])\n",
    "    return model    \n",
    "#==============================================================================\n",
    "def User_Adversary_arch(inputs):\n",
    "    dense1 = Dense(32, activation='relu')(inputs)\n",
    "    dense2 = Dense(32, activation='relu')(dense1)\n",
    "    dense3 = Dense(32, activation='relu')(dense2)\n",
    "    dense4 = Dense(32, activation=\"relu\")(dense3)\n",
    "    outputs = Dense(1, activation='sigmoid')(dense4)\n",
    "    return Model(inputs=[inputs], outputs=outputs)   \n",
    "#==============================================================================\n",
    "def User_main_task_adv_architecture(n_features):\n",
    "    main_task_arch = User_Classifier_arch(n_features)\n",
    "    main_task_arch_json_string = main_task_arch.to_json()\n",
    "    adv_inputs = Input(shape=(1,))\n",
    "    adv_task_arch = User_Adversary_arch(adv_inputs)\n",
    "    adv_task_arch_json_string = adv_task_arch.to_json()\n",
    "    return main_task_arch_json_string, adv_task_arch_json_string  "
   ]
  },
  {
   "cell_type": "markdown",
   "metadata": {},
   "source": [
    "## Saving architectures"
   ]
  },
  {
   "cell_type": "code",
   "execution_count": 19,
   "metadata": {},
   "outputs": [],
   "source": [
    "n_features = X_train.shape[1]\n",
    "main_task_arch_json_string, adv_task_arch_json_string = User_main_task_adv_architecture(n_features)\n",
    "\n",
    "main_task_arch_json_string_file = output_path+'main_task_arch_json_string_file'+'.txt'\n",
    "with open(main_task_arch_json_string_file,\"wt\") as out_file:\n",
    "    out_file.write(main_task_arch_json_string)\n",
    "    \n",
    "adv_task_arch_json_string_file = output_path+'adv_task_arch_json_string_file'+'.txt'\n",
    "with open(adv_task_arch_json_string_file,\"wt\") as out_file:\n",
    "    out_file.write(adv_task_arch_json_string)    "
   ]
  },
  {
   "cell_type": "code",
   "execution_count": 20,
   "metadata": {},
   "outputs": [
    {
     "data": {
      "text/plain": [
       "'# Write a file\\nwith open(\"test.txt\", \"wt\") as out_file:\\n    out_file.write(\"This Text is going to out file\\nLook at it and see!\")\\n\\n# Read a file\\nwith open(\"test.txt\", \"rt\") as in_file:\\n    text = in_file.read()\\n\\nprint(text)'"
      ]
     },
     "execution_count": 20,
     "metadata": {},
     "output_type": "execute_result"
    }
   ],
   "source": [
    "\"\"\"# Write a file\n",
    "with open(\"test.txt\", \"wt\") as out_file:\n",
    "    out_file.write(\"This Text is going to out file\\nLook at it and see!\")\n",
    "\n",
    "# Read a file\n",
    "with open(\"test.txt\", \"rt\") as in_file:\n",
    "    text = in_file.read()\n",
    "\n",
    "print(text)\"\"\""
   ]
  },
  {
   "cell_type": "markdown",
   "metadata": {},
   "source": [
    "## Model and compile only main task: check prediction results"
   ]
  },
  {
   "cell_type": "code",
   "execution_count": 21,
   "metadata": {},
   "outputs": [
    {
     "name": "stdout",
     "output_type": "stream",
     "text": [
      "Accuracy: 99.93\n"
     ]
    }
   ],
   "source": [
    "h5_file_name = output_path+'main_task_ori_trained_model.h5'\n",
    "main_task_accuracy, p_rule_for_Y1, y_pred = myFC.pre_train_main_task(main_task_arch_json_string, h5_file_name,X_train, y_train,X_test,y_test,Z_test)"
   ]
  }
 ],
 "metadata": {
  "kernelspec": {
   "display_name": "Python 3",
   "language": "python",
   "name": "python3"
  },
  "language_info": {
   "codemirror_mode": {
    "name": "ipython",
    "version": 3
   },
   "file_extension": ".py",
   "mimetype": "text/x-python",
   "name": "python",
   "nbconvert_exporter": "python",
   "pygments_lexer": "ipython3",
   "version": "3.6.5"
  }
 },
 "nbformat": 4,
 "nbformat_minor": 2
}
