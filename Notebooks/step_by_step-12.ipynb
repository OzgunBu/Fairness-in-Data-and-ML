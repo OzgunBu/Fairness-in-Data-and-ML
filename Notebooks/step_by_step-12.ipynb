{
 "cells": [
  {
   "cell_type": "code",
   "execution_count": 23,
   "metadata": {},
   "outputs": [
    {
     "name": "stdout",
     "output_type": "stream",
     "text": [
      "sklearn: 0.19.1\n",
      "pandas: 0.23.0\n",
      "kerads: 2.1.6\n"
     ]
    }
   ],
   "source": [
    "# HIDE\n",
    "import pandas as pd\n",
    "import numpy as np\n",
    "np.random.seed(7)\n",
    "import matplotlib.pyplot as plt\n",
    "import seaborn as sns\n",
    "sns.set(style=\"white\", palette=\"muted\", color_codes=True, context=\"talk\")\n",
    "from IPython import display\n",
    "%matplotlib inline\n",
    "\n",
    "import sklearn as sk\n",
    "from sklearn.model_selection import train_test_split\n",
    "from sklearn.preprocessing import StandardScaler\n",
    "from sklearn.metrics import accuracy_score, roc_auc_score\n",
    "from sklearn.utils.class_weight import compute_class_weight\n",
    "\n",
    "import keras as ke\n",
    "import keras.backend as K\n",
    "from keras.layers import Input, Dense, Dropout\n",
    "from keras.models import Model\n",
    "from keras.models import load_model\n",
    "\n",
    "\n",
    "create_gif = False\n",
    "\n",
    "# model reconstruction from JSON:\n",
    "from keras.models import model_from_json\n",
    "\n",
    "print(f\"sklearn: {sk.__version__}\")\n",
    "print(f\"pandas: {pd.__version__}\")\n",
    "print(f\"kerads: {ke.__version__}\")\n",
    "\n",
    "\n",
    "import my_functions_product1 as myFC\n",
    "import matplotlib.pyplot as plt"
   ]
  },
  {
   "cell_type": "code",
   "execution_count": 26,
   "metadata": {},
   "outputs": [
    {
     "name": "stdout",
     "output_type": "stream",
     "text": [
      "Columns in your data are:\n",
      "  ['age' 'job' 'marital' 'education' 'default' 'housing' 'loan' 'contact'\n",
      " 'month' 'day_of_week' 'duration' 'campaign' 'pdays' 'previous' 'poutcome'\n",
      " 'emp.var.rate' 'cons.price.idx' 'cons.conf.idx' 'euribor3m' 'nr.employed'\n",
      " 'y']\n",
      "Your possible target columns '{'emp.var.rate', 'euribor3m', 'loan', 'y', 'job', 'default', 'nr.employed', 'duration', 'education', 'pdays', 'day_of_week', 'poutcome', 'cons.price.idx', 'campaign', 'age', 'previous', 'housing', 'contact', 'month', 'cons.conf.idx', 'marital'}'\n",
      "Which column is your target column?:y\n",
      "Your target column is 'y'\n",
      "-----------------------------------\n",
      "\n",
      "Do you have any column for your current prediction? Please enter Y or N:N\n",
      "Do you have any column for your current prediction? You entered'N'\n",
      "-----------------------------------\n",
      "\n",
      "Your prediction column possible values '{'yes', 'no'}'\n",
      "Please enter two different labels in the target field: \n",
      "Enter label 0:no\n",
      "Your target label 0 is 'no'\n",
      "-----------------------------------\n",
      "\n",
      "Enter label 1:yes\n",
      "Your target label 1 is 'yes'\n",
      "-----------------------------------\n",
      "\n",
      "Your possible Sensitive Attribute columns '{'emp.var.rate', 'euribor3m', 'loan', 'job', 'default', 'nr.employed', 'duration', 'education', 'pdays', 'day_of_week', 'poutcome', 'cons.price.idx', 'campaign', 'age', 'previous', 'housing', 'contact', 'month', 'cons.conf.idx', 'marital'}'\n",
      "Which column is your sensitive column?:age\n",
      "Your sensitive attribute column is 'age'\n",
      "-----------------------------------\n",
      "\n",
      "unique values from the sensitive class:{'25-60', '<25 or >60'}\n",
      "Please enter two different classes in the sensisitve field: \n",
      "Enter class 0:25-60\n",
      "Your sensitive attribute class 0 is '25-60'\n",
      "-----------------------------------\n",
      "\n",
      "Enter class 1:<25 or >60\n",
      "Your sensitive attribute class 1 is '<25 or >60'\n",
      "-----------------------------------\n",
      "\n",
      "Do you want to omit any column from your data? Please enter Y or N:Y\n",
      "Do you have any column for your current prediction? You entered'Y'\n",
      "-----------------------------------\n",
      "\n",
      "Enter a column, you want to omit or enter \"no more\" if you are done:age\n",
      "Enter a column, you want to omit or enter \"no more\" if you are done:no more\n",
      "Columns to be omitted: ['age']\n",
      "target field:y\n",
      "target field:y Label 0-1 no, yes\n",
      "sensitive field:age Class 0-1 25-60, <25 or >60\n",
      "not to consider fields ['age']\n",
      "result file:  data--bank.csv_CP_N_T_y_no_yes_S_age_25-60_<25_or_>60_\n",
      "Target field: p_rule_for_Y1 29.89\n"
     ]
    }
   ],
   "source": [
    "# reading the file from a path and list the field names and input columns of interest\n",
    "#path = 'data/adult.data'\n",
    "#path = 'data/compas.csv'\n",
    "path = 'data/bank.csv'\n",
    "X_df, Ybin, Zbin, result_fname = myFC.read_process_data_output_bias(path)"
   ]
  },
  {
   "cell_type": "markdown",
   "metadata": {},
   "source": [
    "### Feature Creation"
   ]
  },
  {
   "cell_type": "code",
   "execution_count": 27,
   "metadata": {},
   "outputs": [
    {
     "name": "stdout",
     "output_type": "stream",
     "text": [
      "(20594, 52)\n",
      "(20594, 52)\n"
     ]
    }
   ],
   "source": [
    "X_train, X_test, y_train, y_test, Z_train, Z_test = myFC.feature_creation(X_df, Ybin, Zbin)"
   ]
  },
  {
   "cell_type": "markdown",
   "metadata": {},
   "source": [
    "### Setting up default architectures"
   ]
  },
  {
   "cell_type": "code",
   "execution_count": 28,
   "metadata": {},
   "outputs": [],
   "source": [
    "n_features = X_train.shape[1]\n",
    "main_task_arch_json_string, adv_task_arch_json_string = myFC.Default_main_task_adv_architecture(n_features)"
   ]
  },
  {
   "cell_type": "markdown",
   "metadata": {},
   "source": [
    "## Model and compile only main task: check prediction results"
   ]
  },
  {
   "cell_type": "code",
   "execution_count": 29,
   "metadata": {},
   "outputs": [
    {
     "name": "stdout",
     "output_type": "stream",
     "text": [
      "Accuracy: 91.12\n"
     ]
    }
   ],
   "source": [
    "h5_file_name = 'main_task_ori_trained_model.h5'\n",
    "main_task_accuracy, p_rule_for_Y1, y_pred = myFC.pre_train_main_task(main_task_arch_json_string, h5_file_name,X_train, y_train,X_test,y_test,Z_test)"
   ]
  },
  {
   "cell_type": "markdown",
   "metadata": {},
   "source": [
    "## Combining the main task arch with the adversarial arch\n",
    "## Train using pre-trained weights of main model"
   ]
  },
  {
   "cell_type": "code",
   "execution_count": 30,
   "metadata": {},
   "outputs": [
    {
     "name": "stdout",
     "output_type": "stream",
     "text": [
      "tradeoff_lambda =  0\n",
      "Accuracy: 91.12\n",
      "Accuracy: 91.10\n",
      "tradeoff_lambda =  20\n",
      "Accuracy: 91.12\n",
      "Accuracy: 89.20\n",
      "tradeoff_lambda =  40\n",
      "Accuracy: 91.12\n",
      "Accuracy: 89.51\n",
      "tradeoff_lambda =  60\n",
      "Accuracy: 91.12\n",
      "Accuracy: 89.17\n",
      "tradeoff_lambda =  80\n",
      "Accuracy: 91.12\n",
      "Accuracy: 89.42\n",
      "tradeoff_lambda =  100\n",
      "Accuracy: 91.12\n",
      "Accuracy: 89.73\n"
     ]
    }
   ],
   "source": [
    "tradeoff_lambda_v = [0,20,40,60,80,100] \n",
    "pre_load_flag = True\n",
    "\n",
    "main_task_trained_weight_file = 'main_task_ori_trained_model.h5'\n",
    "\n",
    "for tradeoff_lambda in tradeoff_lambda_v:\n",
    "    print('tradeoff_lambda = ', tradeoff_lambda)\n",
    "    # initialise FairClassifier\n",
    "    clf = myFC.FairClassifier(tradeoff_lambda=tradeoff_lambda,\n",
    "                     main_task_arch_json_string=main_task_arch_json_string,\n",
    "                     adv_task_arch_json_string=adv_task_arch_json_string,\n",
    "                     pre_load_flag=pre_load_flag,main_task_trained_weight_file=main_task_trained_weight_file)\n",
    "    \n",
    "    # pre-train both adverserial and classifier networks\n",
    "    clf.pretrain(X_train, y_train, Z_train, verbose=0, epochs=5,pre_load_flag=pre_load_flag,main_task_trained_weight_file=main_task_trained_weight_file)\n",
    "    before_main_task_accuracy, before_p_rule_for_Y1,before_y_pred = myFC.bias_accuracy_performance(X_test,y_test,Z_test,clf)\n",
    "    \n",
    "    # adverserial train on train set and validate on test set\n",
    "    clf.fit(X_train, y_train, Z_train, \n",
    "            validation_data=(X_test, y_test, Z_test),\n",
    "            T_iter=165, save_figs=create_gif)\n",
    "    after_main_task_accuracy, after_p_rule_for_Y1,after_y_pred = myFC.bias_accuracy_performance(X_test,y_test,Z_test,clf)\n",
    "    \n",
    "    \n",
    "    result_fname_y_pred_before_after,result_fname_acc_p_before_after = myFC.saving_performance_result(before_main_task_accuracy, before_p_rule_for_Y1,before_y_pred, after_main_task_accuracy, after_p_rule_for_Y1,after_y_pred,tradeoff_lambda,result_fname)\n",
    "\n",
    "\n"
   ]
  },
  {
   "cell_type": "markdown",
   "metadata": {},
   "source": [
    "# Reading the result files"
   ]
  },
  {
   "cell_type": "markdown",
   "metadata": {},
   "source": [
    "### Accuracy & p-score trade-off curves"
   ]
  },
  {
   "cell_type": "code",
   "execution_count": 31,
   "metadata": {},
   "outputs": [],
   "source": [
    "tradeoff_lambda_v = [0,20,40,60,80,100] \n",
    "\n",
    "Bacc_Bp_Aacc_Ap_results = np.zeros([len(tradeoff_lambda_v),4])\n",
    "\n",
    "Bacc_Bp_Aacc_Ap_results = np.zeros([len(tradeoff_lambda_v),4])\n",
    "\n",
    "for item in range(len(tradeoff_lambda_v)):\n",
    "    \n",
    "    tradeoff_lambda = tradeoff_lambda_v[item]\n",
    "    result_fname_acc_p_before_after = 'acc_p_BA_'+result_fname + 'L'+ str(tradeoff_lambda)+'.txt'\n",
    "    result_fname_acc_p_before_after = './Trade-off-results/'+result_fname_acc_p_before_after\n",
    "    Bacc_Bp_Aacc_Ap = np.loadtxt(result_fname_acc_p_before_after, delimiter=',')\n",
    "\n",
    "    Bacc_Bp_Aacc_Ap_results[item, :] = Bacc_Bp_Aacc_Ap\n",
    "    \n"
   ]
  },
  {
   "cell_type": "code",
   "execution_count": 32,
   "metadata": {},
   "outputs": [
    {
     "data": {
      "text/plain": [
       "Text(0.5,1,'Trade off')"
      ]
     },
     "execution_count": 32,
     "metadata": {},
     "output_type": "execute_result"
    },
    {
     "data": {
      "image/png": "[encoded data removed]",
      "text/plain": [
       "<Figure size 432x288 with 1 Axes>"
      ]
     },
     "metadata": {},
     "output_type": "display_data"
    }
   ],
   "source": [
    "plt.plot(Bacc_Bp_Aacc_Ap_results[:,3], 100*Bacc_Bp_Aacc_Ap_results[:,2])\n",
    "plt.xlabel('p-score')\n",
    "plt.ylabel('accuracy')\n",
    "plt.title('Trade off')"
   ]
  },
  {
   "cell_type": "markdown",
   "metadata": {},
   "source": [
    "### y_pred distribution curves"
   ]
  },
  {
   "cell_type": "code",
   "execution_count": 33,
   "metadata": {},
   "outputs": [],
   "source": [
    "result_fname_y_pred_before_after = 'y_pred_'+result_fname +'L' + str(tradeoff_lambda) +'.txt'\n",
    "result_fname_y_pred_before_after = './Trade-off-results/'+ result_fname_y_pred_before_after\n",
    "\n",
    "BA_y_pred = np.loadtxt(result_fname_y_pred_before_after, delimiter=',')"
   ]
  },
  {
   "cell_type": "markdown",
   "metadata": {},
   "source": [
    "#### Before the de-biaser"
   ]
  },
  {
   "cell_type": "code",
   "execution_count": 34,
   "metadata": {},
   "outputs": [
    {
     "data": {
      "image/png": "[encoded data removed]",
      "text/plain": [
       "<Figure size 432x288 with 1 Axes>"
      ]
     },
     "metadata": {},
     "output_type": "display_data"
    }
   ],
   "source": [
    "ax = sns.distplot(BA_y_pred[Z_test == 0,0], hist=False, \n",
    "                  kde_kws={'shade': True,},\n",
    "                  label='{}'.format('0'))\n",
    "\n",
    "ax = sns.distplot(BA_y_pred[Z_test == 1,0], hist=False, \n",
    "                  kde_kws={'shade': True,},\n",
    "                  label='{}'.format('1'))"
   ]
  },
  {
   "cell_type": "markdown",
   "metadata": {},
   "source": [
    "#### After the de-biaser"
   ]
  },
  {
   "cell_type": "code",
   "execution_count": 35,
   "metadata": {},
   "outputs": [
    {
     "data": {
      "image/png": "[encoded data removed]",
      "text/plain": [
       "<Figure size 432x288 with 1 Axes>"
      ]
     },
     "metadata": {},
     "output_type": "display_data"
    }
   ],
   "source": [
    "ax = sns.distplot(BA_y_pred[Z_test == 0,1], hist=False, \n",
    "                  kde_kws={'shade': True,},\n",
    "                  label='{}'.format('0'))\n",
    "\n",
    "ax = sns.distplot(BA_y_pred[Z_test == 1,1], hist=False, \n",
    "                  kde_kws={'shade': True,},\n",
    "                  label='{}'.format('1'))"
   ]
  },
  {
   "cell_type": "code",
   "execution_count": null,
   "metadata": {},
   "outputs": [],
   "source": []
  },
  {
   "cell_type": "code",
   "execution_count": null,
   "metadata": {},
   "outputs": [],
   "source": []
  }
 ],
 "metadata": {
  "kernelspec": {
   "display_name": "Python 3",
   "language": "python",
   "name": "python3"
  },
  "language_info": {
   "codemirror_mode": {
    "name": "ipython",
    "version": 3
   },
   "file_extension": ".py",
   "mimetype": "text/x-python",
   "name": "python",
   "nbconvert_exporter": "python",
   "pygments_lexer": "ipython3",
   "version": "3.6.5"
  }
 },
 "nbformat": 4,
 "nbformat_minor": 2
}
