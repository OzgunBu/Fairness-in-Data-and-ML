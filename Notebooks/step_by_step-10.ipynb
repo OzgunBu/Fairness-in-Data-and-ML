{
 "cells": [
  {
   "cell_type": "code",
   "execution_count": 1,
   "metadata": {},
   "outputs": [
    {
     "name": "stderr",
     "output_type": "stream",
     "text": [
      "Using TensorFlow backend.\n"
     ]
    },
    {
     "name": "stdout",
     "output_type": "stream",
     "text": [
      "sklearn: 0.19.1\n",
      "pandas: 0.23.0\n",
      "kerads: 2.1.6\n"
     ]
    }
   ],
   "source": [
    "# HIDE\n",
    "import pandas as pd\n",
    "import numpy as np\n",
    "np.random.seed(7)\n",
    "import matplotlib.pyplot as plt\n",
    "import seaborn as sns\n",
    "sns.set(style=\"white\", palette=\"muted\", color_codes=True, context=\"talk\")\n",
    "from IPython import display\n",
    "%matplotlib inline\n",
    "\n",
    "import sklearn as sk\n",
    "from sklearn.model_selection import train_test_split\n",
    "from sklearn.preprocessing import StandardScaler\n",
    "from sklearn.metrics import accuracy_score, roc_auc_score\n",
    "from sklearn.utils.class_weight import compute_class_weight\n",
    "\n",
    "import keras as ke\n",
    "import keras.backend as K\n",
    "from keras.layers import Input, Dense, Dropout\n",
    "from keras.models import Model\n",
    "create_gif = False\n",
    "\n",
    "# model reconstruction from JSON:\n",
    "from keras.models import model_from_json\n",
    "\n",
    "print(f\"sklearn: {sk.__version__}\")\n",
    "print(f\"pandas: {pd.__version__}\")\n",
    "print(f\"kerads: {ke.__version__}\")"
   ]
  },
  {
   "cell_type": "code",
   "execution_count": 2,
   "metadata": {},
   "outputs": [
    {
     "name": "stdout",
     "output_type": "stream",
     "text": [
      "\u001b[34mObtaining Datasets\u001b[m\u001b[m/       my_functions_product1.py  step_by_step-8.ipynb\r\n",
      "\u001b[31mREADME.md\u001b[m\u001b[m*                \u001b[31mproduct1_main.py\u001b[m\u001b[m*         step_by_step-9.ipynb\r\n",
      "\u001b[34m__pycache__\u001b[m\u001b[m/              step_by_step-10.ipynb\r\n",
      "\u001b[34mdata\u001b[m\u001b[m/                     step_by_step-7.ipynb\r\n"
     ]
    }
   ],
   "source": [
    "ls"
   ]
  },
  {
   "cell_type": "code",
   "execution_count": 3,
   "metadata": {},
   "outputs": [
    {
     "name": "stdout",
     "output_type": "stream",
     "text": [
      "Columns in your data are:\n",
      "  ['39' ' State-gov' ' 77516' ' Bachelors' ' 13' ' Never-married'\n",
      " ' Adm-clerical' ' Not-in-family' ' White' ' Male' ' 2174' ' 0' ' 40'\n",
      " ' United-States' ' <=50K']\n",
      "Your possible target columns '{' 77516', ' White', '39', ' 2174', ' United-States', ' Not-in-family', ' 40', ' 0', ' Bachelors', ' Never-married', ' <=50K', ' Adm-clerical', ' Male', ' State-gov', ' 13'}'\n",
      "Which column is your target column?: <=50K\n",
      "Your target column is ' <=50K'\n",
      "Do you have any column for your current prediction? Please enter Y or N:N\n",
      "Do you have any column for your current prediction? You entered'N'\n",
      "Your prediction column possible values '{' <=50K', ' >50K'}'\n",
      "Please enter two different labels in the target field: \n",
      "Enter label 0: <=50K\n",
      "Your target label 0 is ' <=50K'\n",
      "Enter label 1: >50K\n",
      "Your target label 1 is ' >50K'\n",
      "Your possible Sensitive Attribute columns '{' 77516', ' White', '39', ' 2174', ' United-States', ' Not-in-family', ' 40', ' 0', ' Bachelors', ' Never-married', ' Adm-clerical', ' Male', ' State-gov', ' 13'}'\n",
      "Which column is your sensitive column?: Male\n",
      "Your sensitive attribute column is ' Male'\n",
      "unique values from the sensitive class:{' Male', ' Female'}\n",
      "Please enter two different classes in the sensisitve field: \n",
      "Enter class 0: Male\n",
      "Your sensitive attribute class 0 is ' Male'\n",
      "Enter class 1: Female\n",
      "Your sensitive attribute class 1 is ' Female'\n",
      "Do you want to omit any column from your data? Please enter Y or N:N\n",
      "Do you have any column for your current prediction? You entered'N'\n",
      "All columns are kept.\n",
      "target field: <=50K\n",
      "target field: <=50K Label 0-1  <=50K,  >50K\n",
      "sensitive field: Male Class 0-1  Male,  Female\n",
      "not to consider fields []\n",
      "Target field: p_rule_for_Y1 35.80\n"
     ]
    }
   ],
   "source": [
    "import my_functions_product1 as myFC\n",
    "\n",
    "# reading the file from a path and list the field names and input columns of interest\n",
    "path = 'data/adult.data'\n",
    "#path = 'data/compas.csv'\n",
    "#path = 'data/bank.csv'\n",
    "X_df, Ybin, Zbin = myFC.read_process_data_output_bias(path)"
   ]
  },
  {
   "cell_type": "markdown",
   "metadata": {},
   "source": [
    "### Train test split"
   ]
  },
  {
   "cell_type": "code",
   "execution_count": 4,
   "metadata": {},
   "outputs": [
    {
     "name": "stdout",
     "output_type": "stream",
     "text": [
      "<class 'pandas.core.frame.DataFrame'> (32560, 100)\n",
      "<class 'pandas.core.frame.DataFrame'> (32560, 14)\n"
     ]
    }
   ],
   "source": [
    "X = pd.get_dummies(X_df,drop_first=True) \n",
    "print(type(X),X.shape)\n",
    "print(type(X_df),X_df.shape)"
   ]
  },
  {
   "cell_type": "code",
   "execution_count": 5,
   "metadata": {},
   "outputs": [
    {
     "name": "stdout",
     "output_type": "stream",
     "text": [
      "(16280, 100)\n",
      "(16280, 100)\n",
      "(16280, 100)\n",
      "(16280, 100)\n"
     ]
    }
   ],
   "source": [
    "#X = pd.get_dummies(X_df,drop_first=True) \n",
    "Y = Ybin \n",
    "Z = Zbin\n",
    "test_train_ratio = 0.5\n",
    "\n",
    "#TODO: Can I do this in Keras?\n",
    "# TODO : what should be left to the user\n",
    "\n",
    "# split into train/test set\n",
    "X_train, X_test, y_train, y_test, Z_train, Z_test = train_test_split(X, Y, Z, test_size=test_train_ratio, \n",
    "                                                                     stratify=Y, random_state=7)\n",
    "\n",
    "# standardize the data\n",
    "scaler = StandardScaler().fit(X_train)\n",
    "scale_df = lambda df, scaler: pd.DataFrame(scaler.transform(df), columns=df.columns, index=df.index)\n",
    "X_train = X_train.pipe(scale_df, scaler) \n",
    "X_test = X_test.pipe(scale_df, scaler) \n",
    "\n",
    "print(X_train.shape)\n",
    "print(X_test.shape)\n",
    "\n",
    "#X_train = np.array(X_train)\n",
    "#X_test = np.array(X_test)\n",
    "\n",
    "print(X_train.shape)\n",
    "print(X_test.shape)"
   ]
  },
  {
   "cell_type": "markdown",
   "metadata": {},
   "source": [
    "## Performance metrics"
   ]
  },
  {
   "cell_type": "code",
   "execution_count": 6,
   "metadata": {},
   "outputs": [],
   "source": [
    "def main_task_performance(X_test,y_test,y_hat):\n",
    "\n",
    "    main_task_accuracy = accuracy_score(y_test, y_hat)\n",
    "    return main_task_accuracy"
   ]
  },
  {
   "cell_type": "code",
   "execution_count": 7,
   "metadata": {},
   "outputs": [],
   "source": [
    "def bias_accuracy_performance(X_test,y_test,Z_test,trained_model):\n",
    "\n",
    "    # predict on test set\n",
    "    y_pred = trained_model.predict(X_test).ravel()#, index=y_test.index\n",
    "    y_hat = (y_pred>0.5)*1\n",
    "\n",
    "\n",
    "    main_task_accuracy = main_task_performance(X_test,y_test,y_hat)    \n",
    "    print('Accuracy: {}'.format(format(100*main_task_accuracy,'.2f')))\n",
    "\n",
    "    p_rule_for_Y0,p_rule_for_Y1 = myFC.bias_checker_p_rule_bin(Z_test, y_hat)   \n",
    "\n",
    "    print('p_rule_for_Y1',p_rule_for_Y1)\n",
    "\n",
    "    ax = sns.distplot(y_pred[Z_test == 0], hist=False, \n",
    "                              kde_kws={'shade': True,},\n",
    "                              label='{}'.format('0'))\n",
    "    ax = sns.distplot(y_pred[Z_test == 1], hist=False, \n",
    "                              kde_kws={'shade': True,},\n",
    "                              label='{}'.format('1'))\n",
    "    return main_task_accuracy, p_rule_for_Y1"
   ]
  },
  {
   "cell_type": "markdown",
   "metadata": {},
   "source": [
    "### Architectures"
   ]
  },
  {
   "cell_type": "code",
   "execution_count": 8,
   "metadata": {},
   "outputs": [],
   "source": [
    "def Classifier_arch(n_features):\n",
    "    inputs = Input(shape=(n_features,))\n",
    "    dense1 = Dense(32, activation='relu')(inputs)\n",
    "    dropout1 = Dropout(0.2)(dense1)\n",
    "    dense2 = Dense(32, activation='relu')(dropout1)\n",
    "    dropout2 = Dropout(0.2)(dense2)\n",
    "    dense3 = Dense(32, activation=\"relu\")(dropout2)\n",
    "    dropout3 = Dropout(0.2)(dense3)\n",
    "    dense4 = Dense(32, activation=\"relu\")(dropout3)\n",
    "    dropout4 = Dropout(0.2)(dense4)\n",
    "    outputs = Dense(1, activation='sigmoid')(dropout4)\n",
    "    model = Model(inputs=[inputs], outputs=[outputs])\n",
    "    return model"
   ]
  },
  {
   "cell_type": "code",
   "execution_count": 9,
   "metadata": {},
   "outputs": [],
   "source": [
    "def Adversary_arch(inputs):\n",
    "    dense1 = Dense(32, activation='relu')(inputs)\n",
    "    dense2 = Dense(32, activation='relu')(dense1)\n",
    "    dense3 = Dense(32, activation='relu')(dense2)\n",
    "    dense4 = Dense(32, activation=\"relu\")(dense3)\n",
    "    outputs = Dense(1, activation='sigmoid')(dense4)# for _ in range(n_sensitive)]\n",
    "    return Model(inputs=[inputs], outputs=outputs)"
   ]
  },
  {
   "cell_type": "markdown",
   "metadata": {},
   "source": [
    "#### Creating and saving the classifer architecture"
   ]
  },
  {
   "cell_type": "code",
   "execution_count": 10,
   "metadata": {},
   "outputs": [],
   "source": [
    "main_task_arch = Classifier_arch(n_features=X_train.shape[1])\n",
    "main_task_arch_json_string = main_task_arch.to_json()"
   ]
  },
  {
   "cell_type": "markdown",
   "metadata": {},
   "source": [
    "#### Creating and saving the  adversary architecture"
   ]
  },
  {
   "cell_type": "code",
   "execution_count": 12,
   "metadata": {},
   "outputs": [],
   "source": [
    "adv_inputs = Input(shape=(1,))\n",
    "adv_task_arch = Adversary_arch(adv_inputs)\n",
    "adv_task_arch_json_string = adv_task_arch.to_json()\n",
    "    "
   ]
  },
  {
   "cell_type": "markdown",
   "metadata": {},
   "source": [
    "## Try reading the classifier architecture and model/compile and check prediction results"
   ]
  },
  {
   "cell_type": "code",
   "execution_count": 37,
   "metadata": {},
   "outputs": [
    {
     "name": "stdout",
     "output_type": "stream",
     "text": [
      "Accuracy: 85.21\n",
      "p_rule_for_Y1 29.30\n"
     ]
    },
    {
     "data": {
      "image/png": "[encoded data removed]",
      "text/plain": [
       "<Figure size 432x288 with 1 Axes>"
      ]
     },
     "metadata": {},
     "output_type": "display_data"
    }
   ],
   "source": [
    "main_task_ori = model_from_json(main_task_arch_json_string)\n",
    "# initialise NeuralNet Classifier\n",
    "main_task_ori.compile(loss='binary_crossentropy', optimizer='adam')\n",
    "# train on train set\n",
    "main_task_ori.fit(X_train, y_train, epochs=20, verbose=0)\n",
    "\n",
    "main_task_accuracy, p_rule_for_Y1 = bias_accuracy_performance(X_test,y_test,Z_test,main_task_ori)"
   ]
  },
  {
   "cell_type": "code",
   "execution_count": 28,
   "metadata": {},
   "outputs": [
    {
     "name": "stdout",
     "output_type": "stream",
     "text": [
      "Accuracy: 85.17\n",
      "p_rule_for_Y1 29.49\n"
     ]
    },
    {
     "data": {
      "image/png": "[encoded data removed]",
      "text/plain": [
       "<Figure size 432x288 with 1 Axes>"
      ]
     },
     "metadata": {},
     "output_type": "display_data"
    }
   ],
   "source": [
    "\"\"\"from keras.models import load_model\n",
    "\n",
    "main_task_ori.save('main_task_ori_trained_model.h5')  # creates a HDF5 file 'my_model.h5'\n",
    "del main_task_ori  # deletes the existing model\n",
    "\n",
    "# returns a compiled model\n",
    "# identical to the previous one\n",
    "main_task_ori_read = load_model('main_task_ori_trained_model.h5')\n",
    "main_task_accuracy, p_rule_for_Y1 = bias_accuracy_performance(X_test,y_test,Z_test,main_task_ori_read)\"\"\""
   ]
  },
  {
   "cell_type": "code",
   "execution_count": 38,
   "metadata": {},
   "outputs": [
    {
     "name": "stdout",
     "output_type": "stream",
     "text": [
      "Accuracy: 85.21\n",
      "p_rule_for_Y1 29.30\n"
     ]
    },
    {
     "data": {
      "image/png": "[encoded data removed]",
      "text/plain": [
       "<Figure size 432x288 with 1 Axes>"
      ]
     },
     "metadata": {},
     "output_type": "display_data"
    }
   ],
   "source": [
    "from keras.models import load_model\n",
    "\n",
    "main_task_ori.save_weights('main_task_ori_trained_model.h5')  # creates a HDF5 file 'my_model.h5'\n",
    "del main_task_ori  # deletes the existing model\n",
    "\n",
    "# returns a compiled model\n",
    "# identical to the previous one\n",
    "main_task_ori_read.load_weights('main_task_ori_trained_model.h5')\n",
    "main_task_accuracy, p_rule_for_Y1 = bias_accuracy_performance(X_test,y_test,Z_test,main_task_ori_read)\n",
    "\n"
   ]
  },
  {
   "cell_type": "markdown",
   "metadata": {},
   "source": [
    "## Combining the main task arch with the adversarial arch"
   ]
  },
  {
   "cell_type": "code",
   "execution_count": 50,
   "metadata": {},
   "outputs": [],
   "source": [
    "# HIDE\n",
    "\n",
    "class FairClassifier(object):\n",
    "    \n",
    "    def __init__(self, tradeoff_lambda,main_task_arch_json_string,adv_task_arch_json_string,pre_load_flag=True):\n",
    "        self.tradeoff_lambda = tradeoff_lambda\n",
    "        \n",
    "        \n",
    "        \n",
    "        clf_net = self._create_clf_net(main_task_arch_json_string)\n",
    "        adv_net = self._create_adv_net(adv_task_arch_json_string)\n",
    "        \n",
    "        clf_inputs = clf_net.input\n",
    "        \n",
    "        adv_inputs = adv_net.input\n",
    "\n",
    "        \n",
    "        self._trainable_clf_net = self._make_trainable(clf_net)\n",
    "        self._trainable_adv_net = self._make_trainable(adv_net)\n",
    "        self._clf = self._compile_clf(clf_net)\n",
    "        \n",
    "        self._clf_w_adv = self._compile_clf_w_adv(clf_inputs, clf_net, adv_net)\n",
    "        self._adv = self._compile_adv(clf_inputs, clf_net, adv_net)\n",
    "        self._val_metrics = None\n",
    "        self._fairness_metrics = None\n",
    "        \n",
    "        self.predict = self._clf.predict\n",
    "        \n",
    "    def _make_trainable(self, net):\n",
    "        def make_trainable(flag):\n",
    "            net.trainable = flag\n",
    "            for layer in net.layers:\n",
    "                layer.trainable = flag\n",
    "        return make_trainable\n",
    "\n",
    "    \n",
    "    def _create_clf_net(self, main_task_arch_json_string):\n",
    "        architecture = model_from_json(main_task_arch_json_string)\n",
    "        return(architecture)\n",
    "\n",
    "    \n",
    "    def _create_adv_net(self, adv_task_arch_json_string):\n",
    "        architecture = model_from_json(adv_task_arch_json_string)\n",
    "        return(architecture)    \n",
    "\n",
    "    def _compile_clf(self, clf_net):\n",
    "        clf = clf_net\n",
    "        self._trainable_clf_net(True)\n",
    "        clf.compile(loss='binary_crossentropy', optimizer='adam')\n",
    "        return clf\n",
    "        \n",
    "    def _compile_clf_w_adv(self, inputs, clf_net, adv_net):\n",
    "\n",
    "        clf_w_adv = Model(inputs=[inputs], outputs=[clf_net(inputs)]+[adv_net(clf_net(inputs))])\n",
    "        \n",
    "        self._trainable_clf_net(True)\n",
    "        self._trainable_adv_net(False)\n",
    "        loss_weights = [1.]+[-self.tradeoff_lambda]\n",
    "        \n",
    "        clf_w_adv.compile(loss=['binary_crossentropy']*(len(loss_weights)), \n",
    "                          loss_weights=loss_weights,\n",
    "                          optimizer='adam')\n",
    "        return clf_w_adv\n",
    "\n",
    "    def _compile_adv(self, inputs, clf_net, adv_net):\n",
    "        adv = Model(inputs=[inputs], outputs=adv_net(clf_net(inputs)))\n",
    "        self._trainable_clf_net(False)\n",
    "        self._trainable_adv_net(True)\n",
    "        adv.compile(loss=['binary_crossentropy'], optimizer='adam')\n",
    "        return adv\n",
    "\n",
    "    def _compute_class_weights(self, data_set):\n",
    "        class_values = [0, 1]\n",
    "        class_weights = []\n",
    "\n",
    "        balanced_weights = compute_class_weight('balanced', class_values, data_set)\n",
    "        class_weights.append(dict(zip(class_values, balanced_weights)))\n",
    "\n",
    "        \"\"\"if len(data_set.shape) == 1:\n",
    "            balanced_weights = compute_class_weight('balanced', class_values, data_set)\n",
    "            class_weights.append(dict(zip(class_values, balanced_weights)))\n",
    "        else:\n",
    "            n_attr =  data_set.shape[1]\n",
    "            for attr_idx in range(n_attr):\n",
    "                balanced_weights = compute_class_weight('balanced', class_values,\n",
    "                                                        np.array(data_set)[:,attr_idx])\n",
    "                class_weights.append(dict(zip(class_values, balanced_weights)))\n",
    "              \"\"\"\n",
    "                \n",
    "        return class_weights\n",
    "    \n",
    "    def _compute_target_class_weights(self, y):\n",
    "        class_values  = [0,1]\n",
    "        balanced_weights =  compute_class_weight('balanced', class_values, y)\n",
    "        class_weights = {'y': dict(zip(class_values, balanced_weights))}\n",
    "        \n",
    "        return class_weights\n",
    "        \n",
    "    def pretrain(self, x, y, z, epochs=10, verbose=0,pre_load_flag=True):\n",
    "        \n",
    "        if pre_load_flag == False:\n",
    "            self._trainable_clf_net(True)\n",
    "            self._clf.fit(x.values, y.values, epochs=epochs, verbose=verbose)\n",
    "            self._trainable_clf_net(False)\n",
    "            self._trainable_adv_net(True)\n",
    "            class_weight_adv = self._compute_class_weights(z)\n",
    "            self._adv.fit(x.values, z.values, class_weight=class_weight_adv, \n",
    "                      epochs=epochs, verbose=verbose)\n",
    "        else:\n",
    "            \n",
    "           # main_task_ori_read.load_weights('main_task_ori_trained_model.h5')\n",
    "\n",
    "\n",
    "\n",
    "            #self._trainable_clf_net(True)\n",
    "            #self._clf.fit(x.values, y.values, epochs=epochs, verbose=verbose)\n",
    "            self._clf.load_weights('main_task_ori_trained_model.h5')\n",
    "\n",
    "\n",
    "            \n",
    "            self._trainable_clf_net(False)\n",
    "            self._trainable_adv_net(True)\n",
    "            class_weight_adv = self._compute_class_weights(z)\n",
    "            self._adv.fit(x.values, z.values, class_weight=class_weight_adv, \n",
    "                      epochs=epochs, verbose=verbose)\n",
    "            \n",
    "    def fit(self, x, y, z, validation_data=None, T_iter=250, batch_size=128,\n",
    "            save_figs=False):\n",
    "        \n",
    "        \n",
    "        if validation_data is not None:\n",
    "            x_val, y_val, z_val = validation_data\n",
    "\n",
    "        class_weight_adv = self._compute_class_weights(z)\n",
    "        class_weight_clf_w_adv = [{0:1., 1:1.}]+class_weight_adv\n",
    "        \n",
    "        self._val_metrics = pd.DataFrame()\n",
    "        self._fairness_metrics = [] #pd.DataFrame()  \n",
    "        \n",
    "        for idx in range(T_iter):\n",
    "            print(idx)\n",
    "            if validation_data is not None:\n",
    "                y_pred = pd.Series(self._clf.predict(x_val).ravel(), index=y_val.index)\n",
    "                self._val_metrics.loc[idx, 'ROC AUC'] = roc_auc_score(y_val, y_pred)\n",
    "                self._val_metrics.loc[idx, 'Accuracy'] = (accuracy_score(y_val, (y_pred>0.5))*100)\n",
    "                \n",
    "               \n",
    "                self._fairness_metrics.append(myFC.bias_checker_p_rule_bin((y_pred>0.5)*1.0,z_val))\n",
    "                \n",
    "                display.clear_output(wait=True)\n",
    "\n",
    "            # train adverserial\n",
    "            self._trainable_clf_net(False)\n",
    "            self._trainable_adv_net(True)\n",
    "            self._adv.fit(x.values, z.values, batch_size=batch_size, \n",
    "                          class_weight=class_weight_adv, epochs=1, verbose=0)\n",
    "            \n",
    "            # train classifier\n",
    "            self._trainable_clf_net(True)\n",
    "            self._trainable_adv_net(False)\n",
    "            indices = np.random.permutation(len(x))[:batch_size]\n",
    "            #self._clf_w_adv.train_on_batch(x.values[indices], \n",
    "                                           #[y.values[indices]]+[z.values[indices]])\n",
    "            self._clf_w_adv.train_on_batch(x.values[indices], \n",
    "                                           [y.values[indices]]+[z.values[indices]],\n",
    "                                           class_weight=class_weight_clf_w_adv)"
   ]
  },
  {
   "cell_type": "markdown",
   "metadata": {},
   "source": [
    "### Creating the combied architecture and checking the performance of main task after the pre-training"
   ]
  },
  {
   "cell_type": "markdown",
   "metadata": {},
   "source": [
    "#### using trained model weights"
   ]
  },
  {
   "cell_type": "code",
   "execution_count": 56,
   "metadata": {},
   "outputs": [
    {
     "name": "stdout",
     "output_type": "stream",
     "text": [
      "Accuracy: 85.21\n",
      "p_rule_for_Y1 29.30\n"
     ]
    },
    {
     "data": {
      "image/png": "[encoded data removed]",
      "text/plain": [
       "<Figure size 432x288 with 1 Axes>"
      ]
     },
     "metadata": {},
     "output_type": "display_data"
    }
   ],
   "source": [
    "tradeoff_lambda = 100 \n",
    "pre_load_flag = True\n",
    "# initialise FairClassifier\n",
    "clf = FairClassifier(tradeoff_lambda=tradeoff_lambda,\n",
    "                     main_task_arch_json_string=main_task_arch_json_string,\n",
    "                     adv_task_arch_json_string=adv_task_arch_json_string,pre_load_flag=pre_load_flag)\n",
    "    \n",
    "# pre-train both adverserial and classifier networks\n",
    "clf.pretrain(X_train, y_train, Z_train, verbose=0, epochs=5,pre_load_flag=pre_load_flag)\n",
    "main_task_accuracy, p_rule_for_Y1 = bias_accuracy_performance(X_test,y_test,Z_test,clf)"
   ]
  },
  {
   "cell_type": "markdown",
   "metadata": {},
   "source": [
    "#### without using trained model weights"
   ]
  },
  {
   "cell_type": "code",
   "execution_count": 57,
   "metadata": {},
   "outputs": [
    {
     "name": "stdout",
     "output_type": "stream",
     "text": [
      "Accuracy: 85.10\n",
      "p_rule_for_Y1 29.19\n"
     ]
    },
    {
     "data": {
      "image/png": "[encoded data removed]",
      "text/plain": [
       "<Figure size 432x288 with 1 Axes>"
      ]
     },
     "metadata": {},
     "output_type": "display_data"
    }
   ],
   "source": [
    "tradeoff_lambda = 100 \n",
    "pre_load_flag = False\n",
    "# initialise FairClassifier\n",
    "clf = FairClassifier(tradeoff_lambda=tradeoff_lambda,\n",
    "                     main_task_arch_json_string=main_task_arch_json_string,\n",
    "                     adv_task_arch_json_string=adv_task_arch_json_string,pre_load_flag=pre_load_flag)\n",
    "    \n",
    "# pre-train both adverserial and classifier networks\n",
    "clf.pretrain(X_train, y_train, Z_train, verbose=0, epochs=5,pre_load_flag=pre_load_flag)\n",
    "main_task_accuracy, p_rule_for_Y1 = bias_accuracy_performance(X_test,y_test,Z_test,clf)"
   ]
  },
  {
   "cell_type": "markdown",
   "metadata": {},
   "source": [
    "### Fair model - training adversarial and classifier together"
   ]
  },
  {
   "cell_type": "markdown",
   "metadata": {},
   "source": [
    "#### using trained model weights"
   ]
  },
  {
   "cell_type": "code",
   "execution_count": 59,
   "metadata": {},
   "outputs": [
    {
     "name": "stdout",
     "output_type": "stream",
     "text": [
      "Accuracy: 81.97\n",
      "p_rule_for_Y1 93.76\n"
     ]
    },
    {
     "data": {
      "image/png": "[encoded data removed]",
      "text/plain": [
       "<Figure size 432x288 with 1 Axes>"
      ]
     },
     "metadata": {},
     "output_type": "display_data"
    }
   ],
   "source": [
    "tradeoff_lambda_v = [100] \n",
    "pre_load_flag = True\n",
    "for tradeoff_lambda in tradeoff_lambda_v:\n",
    "    print('tradeoff_lambda = ', tradeoff_lambda)\n",
    "    # initialise FairClassifier\n",
    "    clf = FairClassifier(tradeoff_lambda=tradeoff_lambda,\n",
    "                     main_task_arch_json_string=main_task_arch_json_string,\n",
    "                     adv_task_arch_json_string=adv_task_arch_json_string,\n",
    "                     pre_load_flag=pre_load_flag)\n",
    "    \n",
    "    # pre-train both adverserial and classifier networks\n",
    "    clf.pretrain(X_train, y_train, Z_train, verbose=0, epochs=5,pre_load_flag=pre_load_flag)\n",
    "    main_task_accuracy, p_rule_for_Y1 = bias_accuracy_performance(X_test,y_test,Z_test,clf)\n",
    "    \n",
    "    # adverserial train on train set and validate on test set\n",
    "    clf.fit(X_train, y_train, Z_train, \n",
    "            validation_data=(X_test, y_test, Z_test),\n",
    "            T_iter=165, save_figs=create_gif)\n",
    "    main_task_accuracy, p_rule_for_Y1 = bias_accuracy_performance(X_test,y_test,Z_test,clf)"
   ]
  },
  {
   "cell_type": "markdown",
   "metadata": {},
   "source": [
    "#### without using trained model weights"
   ]
  },
  {
   "cell_type": "code",
   "execution_count": 60,
   "metadata": {},
   "outputs": [
    {
     "name": "stdout",
     "output_type": "stream",
     "text": [
      "Accuracy: 82.08\n",
      "p_rule_for_Y1 93.47\n"
     ]
    },
    {
     "data": {
      "image/png": "[encoded data removed]",
      "text/plain": [
       "<Figure size 432x288 with 1 Axes>"
      ]
     },
     "metadata": {},
     "output_type": "display_data"
    }
   ],
   "source": [
    "tradeoff_lambda_v = [100] \n",
    "pre_load_flag = False\n",
    "for tradeoff_lambda in tradeoff_lambda_v:\n",
    "    print('tradeoff_lambda = ', tradeoff_lambda)\n",
    "    # initialise FairClassifier\n",
    "    clf = FairClassifier(tradeoff_lambda=tradeoff_lambda,\n",
    "                     main_task_arch_json_string=main_task_arch_json_string,\n",
    "                     adv_task_arch_json_string=adv_task_arch_json_string,\n",
    "                     pre_load_flag=pre_load_flag)\n",
    "    \n",
    "    # pre-train both adverserial and classifier networks\n",
    "    clf.pretrain(X_train, y_train, Z_train, verbose=0, epochs=5,pre_load_flag=pre_load_flag)\n",
    "    main_task_accuracy, p_rule_for_Y1 = bias_accuracy_performance(X_test,y_test,Z_test,clf)\n",
    "    \n",
    "    # adverserial train on train set and validate on test set\n",
    "    clf.fit(X_train, y_train, Z_train, \n",
    "            validation_data=(X_test, y_test, Z_test),\n",
    "            T_iter=165, save_figs=create_gif)\n",
    "    main_task_accuracy, p_rule_for_Y1 = bias_accuracy_performance(X_test,y_test,Z_test,clf)"
   ]
  },
  {
   "cell_type": "code",
   "execution_count": null,
   "metadata": {},
   "outputs": [],
   "source": []
  }
 ],
 "metadata": {
  "kernelspec": {
   "display_name": "Python 3",
   "language": "python",
   "name": "python3"
  },
  "language_info": {
   "codemirror_mode": {
    "name": "ipython",
    "version": 3
   },
   "file_extension": ".py",
   "mimetype": "text/x-python",
   "name": "python",
   "nbconvert_exporter": "python",
   "pygments_lexer": "ipython3",
   "version": "3.6.5"
  }
 },
 "nbformat": 4,
 "nbformat_minor": 2
}
