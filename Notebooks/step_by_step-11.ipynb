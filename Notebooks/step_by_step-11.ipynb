{
 "cells": [
  {
   "cell_type": "code",
   "execution_count": 84,
   "metadata": {},
   "outputs": [
    {
     "name": "stdout",
     "output_type": "stream",
     "text": [
      "sklearn: 0.19.1\n",
      "pandas: 0.23.0\n",
      "kerads: 2.1.6\n"
     ]
    }
   ],
   "source": [
    "# HIDE\n",
    "import pandas as pd\n",
    "import numpy as np\n",
    "np.random.seed(7)\n",
    "import matplotlib.pyplot as plt\n",
    "import seaborn as sns\n",
    "sns.set(style=\"white\", palette=\"muted\", color_codes=True, context=\"talk\")\n",
    "from IPython import display\n",
    "%matplotlib inline\n",
    "\n",
    "import sklearn as sk\n",
    "from sklearn.model_selection import train_test_split\n",
    "from sklearn.preprocessing import StandardScaler\n",
    "from sklearn.metrics import accuracy_score, roc_auc_score\n",
    "from sklearn.utils.class_weight import compute_class_weight\n",
    "\n",
    "import keras as ke\n",
    "import keras.backend as K\n",
    "from keras.layers import Input, Dense, Dropout\n",
    "from keras.models import Model\n",
    "from keras.models import load_model\n",
    "\n",
    "\n",
    "create_gif = False\n",
    "\n",
    "# model reconstruction from JSON:\n",
    "from keras.models import model_from_json\n",
    "\n",
    "print(f\"sklearn: {sk.__version__}\")\n",
    "print(f\"pandas: {pd.__version__}\")\n",
    "print(f\"kerads: {ke.__version__}\")"
   ]
  },
  {
   "cell_type": "code",
   "execution_count": 85,
   "metadata": {},
   "outputs": [
    {
     "name": "stdout",
     "output_type": "stream",
     "text": [
      "\u001b[34mObtaining Datasets\u001b[m\u001b[m/\r\n",
      "\u001b[31mREADME.md\u001b[m\u001b[m*\r\n",
      "\u001b[34mTrade-off-results\u001b[m\u001b[m/\r\n",
      "\u001b[34m__pycache__\u001b[m\u001b[m/\r\n",
      "acc_p_BAdata--adult.data_CP_N_T__<=50K__<=50K__>50K_S__Male__Male__Female_.txt\r\n",
      "\u001b[34mdata\u001b[m\u001b[m/\r\n",
      "main_task_ori_trained_model.h5\r\n",
      "my_functions_product1.py\r\n",
      "\u001b[31mproduct1_main.py\u001b[m\u001b[m*\r\n",
      "step_by_step-10.ipynb\r\n",
      "step_by_step-11.ipynb\r\n",
      "step_by_step-7.ipynb\r\n",
      "step_by_step-8.ipynb\r\n",
      "step_by_step-9.ipynb\r\n",
      "y_preddata--adult.data_CP_N_T__<=50K__<=50K__>50K_S__Male__Male__Female_.txt\r\n"
     ]
    }
   ],
   "source": [
    "ls"
   ]
  },
  {
   "cell_type": "code",
   "execution_count": 87,
   "metadata": {},
   "outputs": [
    {
     "name": "stdout",
     "output_type": "stream",
     "text": [
      "Columns in your data are:\n",
      "  ['age' 'job' 'marital' 'education' 'default' 'housing' 'loan' 'contact'\n",
      " 'month' 'day_of_week' 'duration' 'campaign' 'pdays' 'previous' 'poutcome'\n",
      " 'emp.var.rate' 'cons.price.idx' 'cons.conf.idx' 'euribor3m' 'nr.employed'\n",
      " 'y']\n",
      "Your possible target columns '{'education', 'pdays', 'default', 'age', 'y', 'campaign', 'marital', 'job', 'contact', 'loan', 'month', 'poutcome', 'cons.conf.idx', 'euribor3m', 'day_of_week', 'emp.var.rate', 'previous', 'cons.price.idx', 'housing', 'duration', 'nr.employed'}'\n",
      "Which column is your target column?:y\n",
      "Your target column is 'y'\n",
      "Do you have any column for your current prediction? Please enter Y or N:N\n",
      "Do you have any column for your current prediction? You entered'N'\n",
      "Your prediction column possible values '{'no', 'yes'}'\n",
      "Please enter two different labels in the target field: \n",
      "Enter label 0:no\n",
      "Your target label 0 is 'no'\n",
      "Enter label 1:yes\n",
      "Your target label 1 is 'yes'\n",
      "Your possible Sensitive Attribute columns '{'education', 'pdays', 'default', 'age', 'campaign', 'marital', 'job', 'contact', 'loan', 'month', 'poutcome', 'cons.conf.idx', 'euribor3m', 'day_of_week', 'emp.var.rate', 'previous', 'cons.price.idx', 'housing', 'duration', 'nr.employed'}'\n",
      "Which column is your sensitive column?:age\n",
      "Your sensitive attribute column is 'age'\n",
      "unique values from the sensitive class:{'<25 or >60', '25-60'}\n",
      "Please enter two different classes in the sensisitve field: \n",
      "Enter class 0:25-60\n",
      "Your sensitive attribute class 0 is '25-60'\n",
      "Enter class 1:<25 or >60\n",
      "Your sensitive attribute class 1 is '<25 or >60'\n",
      "Do you want to omit any column from your data? Please enter Y or N:N\n",
      "Do you have any column for your current prediction? You entered'N'\n",
      "All columns are kept.\n",
      "target field:y\n",
      "target field:y Label 0-1 no, yes\n",
      "sensitive field:age Class 0-1 25-60, <25 or >60\n",
      "not to consider fields []\n",
      "result file:  data--bank.csv_CP_N_T_y_no_yes_S_age_25-60_<25_or_>60_\n",
      "Target field: p_rule_for_Y1 29.89\n"
     ]
    }
   ],
   "source": [
    "import my_functions_product1 as myFC\n",
    "\n",
    "# reading the file from a path and list the field names and input columns of interest\n",
    "#path = 'data/adult.data'\n",
    "#path = 'data/compas.csv'\n",
    "path = 'data/bank.csv'\n",
    "X_df, Ybin, Zbin, result_fname = myFC.read_process_data_output_bias(path)"
   ]
  },
  {
   "cell_type": "markdown",
   "metadata": {},
   "source": [
    "### Train test split"
   ]
  },
  {
   "cell_type": "code",
   "execution_count": 88,
   "metadata": {},
   "outputs": [
    {
     "name": "stdout",
     "output_type": "stream",
     "text": [
      "<class 'pandas.core.frame.DataFrame'> (41188, 53)\n",
      "<class 'pandas.core.frame.DataFrame'> (41188, 20)\n"
     ]
    }
   ],
   "source": [
    "X = pd.get_dummies(X_df,drop_first=True) \n",
    "print(type(X),X.shape)\n",
    "print(type(X_df),X_df.shape)"
   ]
  },
  {
   "cell_type": "code",
   "execution_count": 89,
   "metadata": {},
   "outputs": [
    {
     "name": "stdout",
     "output_type": "stream",
     "text": [
      "(20594, 53)\n",
      "(20594, 53)\n",
      "(20594, 53)\n",
      "(20594, 53)\n"
     ]
    }
   ],
   "source": [
    "#X = pd.get_dummies(X_df,drop_first=True) \n",
    "Y = Ybin \n",
    "Z = Zbin\n",
    "test_train_ratio = 0.5\n",
    "\n",
    "#TODO: Can I do this in Keras?\n",
    "# TODO : what should be left to the user\n",
    "\n",
    "# split into train/test set\n",
    "X_train, X_test, y_train, y_test, Z_train, Z_test = train_test_split(X, Y, Z, test_size=test_train_ratio, \n",
    "                                                                     stratify=Y, random_state=7)\n",
    "\n",
    "# standardize the data\n",
    "scaler = StandardScaler().fit(X_train)\n",
    "scale_df = lambda df, scaler: pd.DataFrame(scaler.transform(df), columns=df.columns, index=df.index)\n",
    "X_train = X_train.pipe(scale_df, scaler) \n",
    "X_test = X_test.pipe(scale_df, scaler) \n",
    "\n",
    "print(X_train.shape)\n",
    "print(X_test.shape)\n",
    "\n",
    "#X_train = np.array(X_train)\n",
    "#X_test = np.array(X_test)\n",
    "\n",
    "print(X_train.shape)\n",
    "print(X_test.shape)"
   ]
  },
  {
   "cell_type": "markdown",
   "metadata": {},
   "source": [
    "## Performance metrics"
   ]
  },
  {
   "cell_type": "code",
   "execution_count": 90,
   "metadata": {},
   "outputs": [],
   "source": [
    "def main_task_performance(X_test,y_test,y_hat):\n",
    "\n",
    "    main_task_accuracy = accuracy_score(y_test, y_hat)\n",
    "    return main_task_accuracy"
   ]
  },
  {
   "cell_type": "code",
   "execution_count": 91,
   "metadata": {},
   "outputs": [],
   "source": [
    "def bias_accuracy_performance(X_test,y_test,Z_test,trained_model):\n",
    "\n",
    "    # predict on test set\n",
    "    y_pred = trained_model.predict(X_test).ravel()#, index=y_test.index\n",
    "    y_hat = (y_pred>0.5)*1\n",
    "\n",
    "\n",
    "    main_task_accuracy = main_task_performance(X_test,y_test,y_hat)    \n",
    "    print('Accuracy: {}'.format(format(100*main_task_accuracy,'.2f')))\n",
    "\n",
    "    p_rule_for_Y0,p_rule_for_Y1 = myFC.bias_checker_p_rule_bin(Z_test, y_hat)   \n",
    "\n",
    "    \"\"\"print('p_rule_for_Y1',p_rule_for_Y1)\n",
    "\n",
    "    ax = sns.distplot(y_pred[Z_test == 0], hist=False, \n",
    "                              kde_kws={'shade': True,},\n",
    "                              label='{}'.format('0'))\n",
    "    ax = sns.distplot(y_pred[Z_test == 1], hist=False, \n",
    "                              kde_kws={'shade': True,},\n",
    "                              label='{}'.format('1'))\"\"\"\n",
    "    return main_task_accuracy, p_rule_for_Y1,y_pred"
   ]
  },
  {
   "cell_type": "code",
   "execution_count": 92,
   "metadata": {},
   "outputs": [
    {
     "data": {
      "text/plain": [
       "'def saving_performance_for_lambda(main_task_accuracy, p_rule_for_Y1,y_pred,tradeoff_lambda,results):\\n    performance_row = [main_task_accuracy, float(p_rule_for_Y1),y_pred]\\n    results[tradeoff_lambda]= performance_row\\n    return results'"
      ]
     },
     "execution_count": 92,
     "metadata": {},
     "output_type": "execute_result"
    }
   ],
   "source": [
    "\"\"\"def saving_performance_for_lambda(main_task_accuracy, p_rule_for_Y1,y_pred,tradeoff_lambda,results):\n",
    "    performance_row = [main_task_accuracy, float(p_rule_for_Y1),y_pred]\n",
    "    results[tradeoff_lambda]= performance_row\n",
    "    return results\"\"\""
   ]
  },
  {
   "cell_type": "code",
   "execution_count": 93,
   "metadata": {},
   "outputs": [],
   "source": [
    "def saving_performance_result(before_main_task_accuracy, before_p_rule_for_Y1,before_y_pred,after_main_task_accuracy, after_p_rule_for_Y1,after_y_pred,tradeoff_lambda,result_fname):\n",
    "    #BA: before after\n",
    "    \n",
    "    #saving accuracy and p score\n",
    "    result_fname_acc_p_before_after = 'acc_p_BA_'+result_fname + 'L'+ str(tradeoff_lambda)+'.txt'\n",
    "    result_fname_acc_p_before_after = './Trade-off-results/'+result_fname_acc_p_before_after\n",
    "    \n",
    "    Bacc_Bp_Aacc_Ap = np.array([float(before_main_task_accuracy), float(before_p_rule_for_Y1),float(after_main_task_accuracy), float(after_p_rule_for_Y1)])\n",
    "    np.savetxt(result_fname_acc_p_before_after,Bacc_Bp_Aacc_Ap , delimiter=',')   \n",
    "\n",
    "\n",
    "    #saving y_pred\n",
    "    result_fname_y_pred_before_after = 'y_pred_'+result_fname +'L' + str(tradeoff_lambda) +'.txt'\n",
    "    result_fname_y_pred_before_after = './Trade-off-results/'+ result_fname_y_pred_before_after\n",
    "    before_y_pred = before_y_pred.reshape(len(before_y_pred),1)\n",
    "    after_y_pred = after_y_pred.reshape(len(after_y_pred),1)\n",
    "    \n",
    "    BA_y_pred = np.concatenate((before_y_pred, after_y_pred), axis=1)\n",
    "    np.savetxt(result_fname_y_pred_before_after, BA_y_pred, delimiter=',')  \n",
    "    \n",
    "    \n",
    "    \n",
    "    \n",
    "    return result_fname_y_pred_before_after,result_fname_acc_p_before_after"
   ]
  },
  {
   "cell_type": "code",
   "execution_count": 94,
   "metadata": {},
   "outputs": [
    {
     "name": "stdout",
     "output_type": "stream",
     "text": [
      "\u001b[34mObtaining Datasets\u001b[m\u001b[m/\r\n",
      "\u001b[31mREADME.md\u001b[m\u001b[m*\r\n",
      "\u001b[34mTrade-off-results\u001b[m\u001b[m/\r\n",
      "\u001b[34m__pycache__\u001b[m\u001b[m/\r\n",
      "acc_p_BAdata--adult.data_CP_N_T__<=50K__<=50K__>50K_S__Male__Male__Female_.txt\r\n",
      "\u001b[34mdata\u001b[m\u001b[m/\r\n",
      "main_task_ori_trained_model.h5\r\n",
      "my_functions_product1.py\r\n",
      "\u001b[31mproduct1_main.py\u001b[m\u001b[m*\r\n",
      "step_by_step-10.ipynb\r\n",
      "step_by_step-11.ipynb\r\n",
      "step_by_step-7.ipynb\r\n",
      "step_by_step-8.ipynb\r\n",
      "step_by_step-9.ipynb\r\n",
      "y_preddata--adult.data_CP_N_T__<=50K__<=50K__>50K_S__Male__Male__Female_.txt\r\n"
     ]
    }
   ],
   "source": [
    "ls"
   ]
  },
  {
   "cell_type": "markdown",
   "metadata": {},
   "source": [
    "### Architectures"
   ]
  },
  {
   "cell_type": "code",
   "execution_count": 95,
   "metadata": {},
   "outputs": [],
   "source": [
    "def Classifier_arch(n_features):\n",
    "    inputs = Input(shape=(n_features,))\n",
    "    dense1 = Dense(32, activation='relu')(inputs)\n",
    "    dropout1 = Dropout(0.2)(dense1)\n",
    "    dense2 = Dense(32, activation='relu')(dropout1)\n",
    "    dropout2 = Dropout(0.2)(dense2)\n",
    "    dense3 = Dense(32, activation=\"relu\")(dropout2)\n",
    "    dropout3 = Dropout(0.2)(dense3)\n",
    "    dense4 = Dense(32, activation=\"relu\")(dropout3)\n",
    "    dropout4 = Dropout(0.2)(dense4)\n",
    "    outputs = Dense(1, activation='sigmoid')(dropout4)\n",
    "    model = Model(inputs=[inputs], outputs=[outputs])\n",
    "    return model"
   ]
  },
  {
   "cell_type": "code",
   "execution_count": 96,
   "metadata": {},
   "outputs": [],
   "source": [
    "def Adversary_arch(inputs):\n",
    "    dense1 = Dense(32, activation='relu')(inputs)\n",
    "    dense2 = Dense(32, activation='relu')(dense1)\n",
    "    dense3 = Dense(32, activation='relu')(dense2)\n",
    "    dense4 = Dense(32, activation=\"relu\")(dense3)\n",
    "    outputs = Dense(1, activation='sigmoid')(dense4)# for _ in range(n_sensitive)]\n",
    "    return Model(inputs=[inputs], outputs=outputs)"
   ]
  },
  {
   "cell_type": "markdown",
   "metadata": {},
   "source": [
    "#### Creating and saving the classifer architecture"
   ]
  },
  {
   "cell_type": "code",
   "execution_count": 97,
   "metadata": {},
   "outputs": [],
   "source": [
    "main_task_arch = Classifier_arch(n_features=X_train.shape[1])\n",
    "main_task_arch_json_string = main_task_arch.to_json()"
   ]
  },
  {
   "cell_type": "markdown",
   "metadata": {},
   "source": [
    "#### Creating and saving the  adversary architecture"
   ]
  },
  {
   "cell_type": "code",
   "execution_count": 98,
   "metadata": {},
   "outputs": [],
   "source": [
    "adv_inputs = Input(shape=(1,))\n",
    "adv_task_arch = Adversary_arch(adv_inputs)\n",
    "adv_task_arch_json_string = adv_task_arch.to_json()\n",
    "    "
   ]
  },
  {
   "cell_type": "markdown",
   "metadata": {},
   "source": [
    "## Try reading the classifier architecture and model/compile and check prediction results"
   ]
  },
  {
   "cell_type": "code",
   "execution_count": 99,
   "metadata": {},
   "outputs": [
    {
     "name": "stdout",
     "output_type": "stream",
     "text": [
      "Accuracy: 90.97\n"
     ]
    }
   ],
   "source": [
    "main_task_ori = model_from_json(main_task_arch_json_string)\n",
    "# initialise NeuralNet Classifier\n",
    "main_task_ori.compile(loss='binary_crossentropy', optimizer='adam')\n",
    "# train on train set\n",
    "main_task_ori.fit(X_train, y_train, epochs=20, verbose=0)\n",
    "\n",
    "main_task_accuracy, p_rule_for_Y1, y_pred = bias_accuracy_performance(X_test,y_test,Z_test,main_task_ori)\n",
    "main_task_ori.save_weights('main_task_ori_trained_model.h5')  # creates a HDF5 file 'my_model.h5'\n",
    "\n",
    "del main_task_ori  # deletes the existing model\n"
   ]
  },
  {
   "cell_type": "markdown",
   "metadata": {},
   "source": [
    "## Combining the main task arch with the adversarial arch"
   ]
  },
  {
   "cell_type": "markdown",
   "metadata": {},
   "source": [
    "### Fair model - training adversarial and classifier together"
   ]
  },
  {
   "cell_type": "code",
   "execution_count": 100,
   "metadata": {},
   "outputs": [
    {
     "name": "stdout",
     "output_type": "stream",
     "text": [
      "tradeoff_lambda =  0\n",
      "Accuracy: 90.97\n",
      "Accuracy: 91.04\n",
      "tradeoff_lambda =  10\n",
      "Accuracy: 90.97\n",
      "Accuracy: 90.30\n",
      "tradeoff_lambda =  20\n",
      "Accuracy: 90.97\n",
      "Accuracy: 90.30\n",
      "tradeoff_lambda =  30\n",
      "Accuracy: 90.97\n",
      "Accuracy: 90.33\n",
      "tradeoff_lambda =  60\n",
      "Accuracy: 90.97\n",
      "Accuracy: 90.15\n",
      "tradeoff_lambda =  100\n",
      "Accuracy: 90.97\n",
      "Accuracy: 90.07\n"
     ]
    }
   ],
   "source": [
    "\n",
    "tradeoff_lambda_v = [0, 10, 20, 30, 60, 100] \n",
    "pre_load_flag = True\n",
    "\n",
    "main_task_trained_weight_file = 'main_task_ori_trained_model.h5'\n",
    "\n",
    "for tradeoff_lambda in tradeoff_lambda_v:\n",
    "    print('tradeoff_lambda = ', tradeoff_lambda)\n",
    "    # initialise FairClassifier\n",
    "    clf = myFC.FairClassifier(tradeoff_lambda=tradeoff_lambda,\n",
    "                     main_task_arch_json_string=main_task_arch_json_string,\n",
    "                     adv_task_arch_json_string=adv_task_arch_json_string,\n",
    "                     pre_load_flag=pre_load_flag,main_task_trained_weight_file=main_task_trained_weight_file)\n",
    "    \n",
    "    # pre-train both adverserial and classifier networks\n",
    "    clf.pretrain(X_train, y_train, Z_train, verbose=0, epochs=5,pre_load_flag=pre_load_flag,main_task_trained_weight_file=main_task_trained_weight_file)\n",
    "    before_main_task_accuracy, before_p_rule_for_Y1,before_y_pred = bias_accuracy_performance(X_test,y_test,Z_test,clf)\n",
    "    \n",
    "    # adverserial train on train set and validate on test set\n",
    "    clf.fit(X_train, y_train, Z_train, \n",
    "            validation_data=(X_test, y_test, Z_test),\n",
    "            T_iter=165, save_figs=create_gif)\n",
    "    after_main_task_accuracy, after_p_rule_for_Y1,after_y_pred = bias_accuracy_performance(X_test,y_test,Z_test,clf)\n",
    "    \n",
    "    \n",
    "    result_fname_y_pred_before_after,result_fname_acc_p_before_after = saving_performance_result(before_main_task_accuracy, before_p_rule_for_Y1,before_y_pred, after_main_task_accuracy, after_p_rule_for_Y1,after_y_pred,tradeoff_lambda,result_fname)\n",
    "\n",
    "\n"
   ]
  },
  {
   "cell_type": "markdown",
   "metadata": {},
   "source": [
    "# plotting the results; trade off curve and initial and final distributions"
   ]
  },
  {
   "cell_type": "code",
   "execution_count": 101,
   "metadata": {},
   "outputs": [],
   "source": [
    "tradeoff_lambda_v = [0, 10, 20, 30, 60, 100] \n",
    "\n",
    "Bacc_Bp_Aacc_Ap_results = np.zeros([len(tradeoff_lambda_v),4])\n",
    "\n",
    "Bacc_Bp_Aacc_Ap_results = np.zeros([len(tradeoff_lambda_v),4])\n",
    "\n",
    "for item in range(len(tradeoff_lambda_v)):\n",
    "    \n",
    "    tradeoff_lambda = tradeoff_lambda_v[item]\n",
    "    result_fname_acc_p_before_after = 'acc_p_BA_'+result_fname + 'L'+ str(tradeoff_lambda)+'.txt'\n",
    "    result_fname_acc_p_before_after = './Trade-off-results/'+result_fname_acc_p_before_after\n",
    "    Bacc_Bp_Aacc_Ap = np.loadtxt(result_fname_acc_p_before_after, delimiter=',')\n",
    "\n",
    "    Bacc_Bp_Aacc_Ap_results[item, :] = Bacc_Bp_Aacc_Ap\n",
    "    \n"
   ]
  },
  {
   "cell_type": "code",
   "execution_count": 102,
   "metadata": {},
   "outputs": [
    {
     "data": {
      "text/plain": [
       "Text(0.5,1,'Trade off')"
      ]
     },
     "execution_count": 102,
     "metadata": {},
     "output_type": "execute_result"
    },
    {
     "data": {
      "image/png": "[encoded data removed]",
      "text/plain": [
       "<Figure size 432x288 with 1 Axes>"
      ]
     },
     "metadata": {},
     "output_type": "display_data"
    }
   ],
   "source": [
    "import matplotlib.pyplot as plt\n",
    "\n",
    "\n",
    "plt.plot(Bacc_Bp_Aacc_Ap_results[:,3], 100*Bacc_Bp_Aacc_Ap_results[:,2])\n",
    "plt.xlabel('p-score')\n",
    "plt.ylabel('accuracy')\n",
    "plt.title('Trade off')"
   ]
  },
  {
   "cell_type": "code",
   "execution_count": 103,
   "metadata": {},
   "outputs": [],
   "source": [
    "result_fname_y_pred_before_after = 'y_pred_'+result_fname +'L' + str(tradeoff_lambda) +'.txt'\n",
    "result_fname_y_pred_before_after = './Trade-off-results/'+ result_fname_y_pred_before_after\n",
    "\n",
    "BA_y_pred = np.loadtxt(result_fname_y_pred_before_after, delimiter=',')"
   ]
  },
  {
   "cell_type": "markdown",
   "metadata": {},
   "source": [
    "## Before the de-biaser"
   ]
  },
  {
   "cell_type": "code",
   "execution_count": 104,
   "metadata": {},
   "outputs": [
    {
     "data": {
      "image/png": "[encoded data removed]",
      "text/plain": [
       "<Figure size 432x288 with 1 Axes>"
      ]
     },
     "metadata": {},
     "output_type": "display_data"
    }
   ],
   "source": [
    "ax = sns.distplot(BA_y_pred[Z_test == 0,0], hist=False, \n",
    "                  kde_kws={'shade': True,},\n",
    "                  label='{}'.format('0'))\n",
    "\n",
    "ax = sns.distplot(BA_y_pred[Z_test == 1,0], hist=False, \n",
    "                  kde_kws={'shade': True,},\n",
    "                  label='{}'.format('1'))"
   ]
  },
  {
   "cell_type": "markdown",
   "metadata": {},
   "source": [
    "## After the de-biaser"
   ]
  },
  {
   "cell_type": "code",
   "execution_count": 105,
   "metadata": {},
   "outputs": [
    {
     "data": {
      "image/png": "[encoded data removed]",
      "text/plain": [
       "<Figure size 432x288 with 1 Axes>"
      ]
     },
     "metadata": {},
     "output_type": "display_data"
    }
   ],
   "source": [
    "ax = sns.distplot(BA_y_pred[Z_test == 0,1], hist=False, \n",
    "                  kde_kws={'shade': True,},\n",
    "                  label='{}'.format('0'))\n",
    "\n",
    "ax = sns.distplot(BA_y_pred[Z_test == 1,1], hist=False, \n",
    "                  kde_kws={'shade': True,},\n",
    "                  label='{}'.format('1'))"
   ]
  },
  {
   "cell_type": "code",
   "execution_count": null,
   "metadata": {},
   "outputs": [],
   "source": []
  }
 ],
 "metadata": {
  "kernelspec": {
   "display_name": "Python 3",
   "language": "python",
   "name": "python3"
  },
  "language_info": {
   "codemirror_mode": {
    "name": "ipython",
    "version": 3
   },
   "file_extension": ".py",
   "mimetype": "text/x-python",
   "name": "python",
   "nbconvert_exporter": "python",
   "pygments_lexer": "ipython3",
   "version": "3.6.5"
  }
 },
 "nbformat": 4,
 "nbformat_minor": 2
}
