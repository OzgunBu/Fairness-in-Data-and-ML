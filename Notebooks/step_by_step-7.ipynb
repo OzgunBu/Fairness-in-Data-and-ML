{
 "cells": [
  {
   "cell_type": "code",
   "execution_count": 1,
   "metadata": {},
   "outputs": [
    {
     "name": "stderr",
     "output_type": "stream",
     "text": [
      "Using TensorFlow backend.\n"
     ]
    },
    {
     "name": "stdout",
     "output_type": "stream",
     "text": [
      "sklearn: 0.19.1\n",
      "pandas: 0.23.0\n",
      "kerads: 2.1.6\n"
     ]
    }
   ],
   "source": [
    "# HIDE\n",
    "import pandas as pd\n",
    "import numpy as np\n",
    "np.random.seed(7)\n",
    "import matplotlib.pyplot as plt\n",
    "import seaborn as sns\n",
    "sns.set(style=\"white\", palette=\"muted\", color_codes=True, context=\"talk\")\n",
    "from IPython import display\n",
    "%matplotlib inline\n",
    "\n",
    "import sklearn as sk\n",
    "from sklearn.model_selection import train_test_split\n",
    "from sklearn.preprocessing import StandardScaler\n",
    "from sklearn.metrics import accuracy_score, roc_auc_score\n",
    "from sklearn.utils.class_weight import compute_class_weight\n",
    "\n",
    "import keras as ke\n",
    "import keras.backend as K\n",
    "from keras.layers import Input, Dense, Dropout\n",
    "from keras.models import Model\n",
    "create_gif = False\n",
    "\n",
    "# model reconstruction from JSON:\n",
    "from keras.models import model_from_json\n",
    "\n",
    "print(f\"sklearn: {sk.__version__}\")\n",
    "print(f\"pandas: {pd.__version__}\")\n",
    "print(f\"kerads: {ke.__version__}\")"
   ]
  },
  {
   "cell_type": "code",
   "execution_count": 2,
   "metadata": {},
   "outputs": [
    {
     "name": "stdout",
     "output_type": "stream",
     "text": [
      "\u001b[34mdata\u001b[m\u001b[m/                     \u001b[31mproduct1_main.py\u001b[m\u001b[m*\r\n",
      "my_functions_product1.py  step_by_step-7.ipynb\r\n"
     ]
    }
   ],
   "source": [
    "ls"
   ]
  },
  {
   "cell_type": "code",
   "execution_count": 4,
   "metadata": {},
   "outputs": [
    {
     "name": "stdout",
     "output_type": "stream",
     "text": [
      "Columns in your data are:\n",
      "  ['39' ' State-gov' ' 77516' ' Bachelors' ' 13' ' Never-married'\n",
      " ' Adm-clerical' ' Not-in-family' ' White' ' Male' ' 2174' ' 0' ' 40'\n",
      " ' United-States' ' <=50K']\n",
      "Your possible target columns '{' State-gov', ' 2174', ' Bachelors', ' 77516', ' 0', ' Not-in-family', ' White', ' 13', ' United-States', ' Never-married', '39', ' <=50K', ' Adm-clerical', ' Male', ' 40'}'\n"
     ]
    },
    {
     "ename": "KeyboardInterrupt",
     "evalue": "",
     "output_type": "error",
     "traceback": [
      "\u001b[0;31m---------------------------------------------------------------------------\u001b[0m",
      "\u001b[0;31mKeyboardInterrupt\u001b[0m                         Traceback (most recent call last)",
      "\u001b[0;32m~/anaconda3/envs/fairness-in-ml/lib/python3.6/site-packages/ipykernel/kernelbase.py\u001b[0m in \u001b[0;36m_input_request\u001b[0;34m(self, prompt, ident, parent, password)\u001b[0m\n\u001b[1;32m    728\u001b[0m             \u001b[0;32mtry\u001b[0m\u001b[0;34m:\u001b[0m\u001b[0;34m\u001b[0m\u001b[0m\n\u001b[0;32m--> 729\u001b[0;31m                 \u001b[0mident\u001b[0m\u001b[0;34m,\u001b[0m \u001b[0mreply\u001b[0m \u001b[0;34m=\u001b[0m \u001b[0mself\u001b[0m\u001b[0;34m.\u001b[0m\u001b[0msession\u001b[0m\u001b[0;34m.\u001b[0m\u001b[0mrecv\u001b[0m\u001b[0;34m(\u001b[0m\u001b[0mself\u001b[0m\u001b[0;34m.\u001b[0m\u001b[0mstdin_socket\u001b[0m\u001b[0;34m,\u001b[0m \u001b[0;36m0\u001b[0m\u001b[0;34m)\u001b[0m\u001b[0;34m\u001b[0m\u001b[0m\n\u001b[0m\u001b[1;32m    730\u001b[0m             \u001b[0;32mexcept\u001b[0m \u001b[0mException\u001b[0m\u001b[0;34m:\u001b[0m\u001b[0;34m\u001b[0m\u001b[0m\n",
      "\u001b[0;32m~/anaconda3/envs/fairness-in-ml/lib/python3.6/site-packages/jupyter_client/session.py\u001b[0m in \u001b[0;36mrecv\u001b[0;34m(self, socket, mode, content, copy)\u001b[0m\n\u001b[1;32m    802\u001b[0m         \u001b[0;32mtry\u001b[0m\u001b[0;34m:\u001b[0m\u001b[0;34m\u001b[0m\u001b[0m\n\u001b[0;32m--> 803\u001b[0;31m             \u001b[0mmsg_list\u001b[0m \u001b[0;34m=\u001b[0m \u001b[0msocket\u001b[0m\u001b[0;34m.\u001b[0m\u001b[0mrecv_multipart\u001b[0m\u001b[0;34m(\u001b[0m\u001b[0mmode\u001b[0m\u001b[0;34m,\u001b[0m \u001b[0mcopy\u001b[0m\u001b[0;34m=\u001b[0m\u001b[0mcopy\u001b[0m\u001b[0;34m)\u001b[0m\u001b[0;34m\u001b[0m\u001b[0m\n\u001b[0m\u001b[1;32m    804\u001b[0m         \u001b[0;32mexcept\u001b[0m \u001b[0mzmq\u001b[0m\u001b[0;34m.\u001b[0m\u001b[0mZMQError\u001b[0m \u001b[0;32mas\u001b[0m \u001b[0me\u001b[0m\u001b[0;34m:\u001b[0m\u001b[0;34m\u001b[0m\u001b[0m\n",
      "\u001b[0;32m~/anaconda3/envs/fairness-in-ml/lib/python3.6/site-packages/zmq/sugar/socket.py\u001b[0m in \u001b[0;36mrecv_multipart\u001b[0;34m(self, flags, copy, track)\u001b[0m\n\u001b[1;32m    465\u001b[0m         \"\"\"\n\u001b[0;32m--> 466\u001b[0;31m         \u001b[0mparts\u001b[0m \u001b[0;34m=\u001b[0m \u001b[0;34m[\u001b[0m\u001b[0mself\u001b[0m\u001b[0;34m.\u001b[0m\u001b[0mrecv\u001b[0m\u001b[0;34m(\u001b[0m\u001b[0mflags\u001b[0m\u001b[0;34m,\u001b[0m \u001b[0mcopy\u001b[0m\u001b[0;34m=\u001b[0m\u001b[0mcopy\u001b[0m\u001b[0;34m,\u001b[0m \u001b[0mtrack\u001b[0m\u001b[0;34m=\u001b[0m\u001b[0mtrack\u001b[0m\u001b[0;34m)\u001b[0m\u001b[0;34m]\u001b[0m\u001b[0;34m\u001b[0m\u001b[0m\n\u001b[0m\u001b[1;32m    467\u001b[0m         \u001b[0;31m# have first part already, only loop while more to receive\u001b[0m\u001b[0;34m\u001b[0m\u001b[0;34m\u001b[0m\u001b[0m\n",
      "\u001b[0;32mzmq/backend/cython/socket.pyx\u001b[0m in \u001b[0;36mzmq.backend.cython.socket.Socket.recv\u001b[0;34m()\u001b[0m\n",
      "\u001b[0;32mzmq/backend/cython/socket.pyx\u001b[0m in \u001b[0;36mzmq.backend.cython.socket.Socket.recv\u001b[0;34m()\u001b[0m\n",
      "\u001b[0;32mzmq/backend/cython/socket.pyx\u001b[0m in \u001b[0;36mzmq.backend.cython.socket._recv_copy\u001b[0;34m()\u001b[0m\n",
      "\u001b[0;32m~/anaconda3/envs/fairness-in-ml/lib/python3.6/site-packages/zmq/backend/cython/checkrc.pxd\u001b[0m in \u001b[0;36mzmq.backend.cython.checkrc._check_rc\u001b[0;34m()\u001b[0m\n",
      "\u001b[0;31mKeyboardInterrupt\u001b[0m: ",
      "\nDuring handling of the above exception, another exception occurred:\n",
      "\u001b[0;31mKeyboardInterrupt\u001b[0m                         Traceback (most recent call last)",
      "\u001b[0;32m<ipython-input-4-946e14e03b1d>\u001b[0m in \u001b[0;36m<module>\u001b[0;34m()\u001b[0m\n\u001b[1;32m      3\u001b[0m \u001b[0;31m# reading the file from a path and list the field names and input columns of interest\u001b[0m\u001b[0;34m\u001b[0m\u001b[0;34m\u001b[0m\u001b[0m\n\u001b[1;32m      4\u001b[0m \u001b[0mpath\u001b[0m \u001b[0;34m=\u001b[0m \u001b[0;34m'data/adult.data'\u001b[0m\u001b[0;34m\u001b[0m\u001b[0m\n\u001b[0;32m----> 5\u001b[0;31m \u001b[0mX_df\u001b[0m\u001b[0;34m,\u001b[0m \u001b[0mYbin\u001b[0m\u001b[0;34m,\u001b[0m \u001b[0mZbin\u001b[0m \u001b[0;34m=\u001b[0m \u001b[0mmyFC\u001b[0m\u001b[0;34m.\u001b[0m\u001b[0mread_process_data_output_bias\u001b[0m\u001b[0;34m(\u001b[0m\u001b[0mpath\u001b[0m\u001b[0;34m)\u001b[0m\u001b[0;34m\u001b[0m\u001b[0m\n\u001b[0m",
      "\u001b[0;32m~/Desktop/INSIGHT/My project/Insight-fairness-in-data-ml/Product1/my_functions_product1.py\u001b[0m in \u001b[0;36mread_process_data_output_bias\u001b[0;34m(filename_str)\u001b[0m\n\u001b[1;32m    264\u001b[0m \u001b[0;32mdef\u001b[0m \u001b[0mread_process_data_output_bias\u001b[0m\u001b[0;34m(\u001b[0m\u001b[0mfilename_str\u001b[0m\u001b[0;34m)\u001b[0m\u001b[0;34m:\u001b[0m\u001b[0;34m\u001b[0m\u001b[0m\n\u001b[1;32m    265\u001b[0m     \u001b[0myour_data_df\u001b[0m\u001b[0;34m,\u001b[0m \u001b[0mall_columns\u001b[0m \u001b[0;34m=\u001b[0m \u001b[0mreading_data\u001b[0m\u001b[0;34m(\u001b[0m\u001b[0mfilename_str\u001b[0m\u001b[0;34m)\u001b[0m\u001b[0;34m\u001b[0m\u001b[0m\n\u001b[0;32m--> 266\u001b[0;31m     \u001b[0mcprediction_field_exists\u001b[0m\u001b[0;34m,\u001b[0m\u001b[0mcprediction_field\u001b[0m\u001b[0;34m,\u001b[0m\u001b[0mtarget_field\u001b[0m\u001b[0;34m,\u001b[0m \u001b[0msensitive_field\u001b[0m\u001b[0;34m,\u001b[0m \u001b[0myour_data_df\u001b[0m\u001b[0;34m,\u001b[0m \u001b[0mnot_to_consider_fields\u001b[0m\u001b[0;34m,\u001b[0m\u001b[0msensitive_class0\u001b[0m\u001b[0;34m,\u001b[0m\u001b[0msensitive_class1\u001b[0m\u001b[0;34m,\u001b[0m\u001b[0mtarget_label0\u001b[0m\u001b[0;34m,\u001b[0m\u001b[0mtarget_label1\u001b[0m \u001b[0;34m=\u001b[0m \u001b[0mInputting_from_the_user\u001b[0m\u001b[0;34m(\u001b[0m\u001b[0mall_columns\u001b[0m\u001b[0;34m,\u001b[0m\u001b[0myour_data_df\u001b[0m\u001b[0;34m)\u001b[0m\u001b[0;34m\u001b[0m\u001b[0m\n\u001b[0m\u001b[1;32m    267\u001b[0m \u001b[0;34m\u001b[0m\u001b[0m\n\u001b[1;32m    268\u001b[0m     \u001b[0mX_df\u001b[0m\u001b[0;34m,\u001b[0m \u001b[0mY_df\u001b[0m\u001b[0;34m,\u001b[0m \u001b[0mZ_df\u001b[0m \u001b[0;34m=\u001b[0m \u001b[0mprocessing_data_frame\u001b[0m\u001b[0;34m(\u001b[0m\u001b[0mtarget_field\u001b[0m\u001b[0;34m,\u001b[0m \u001b[0msensitive_field\u001b[0m\u001b[0;34m,\u001b[0m \u001b[0myour_data_df\u001b[0m\u001b[0;34m,\u001b[0m \u001b[0mnot_to_consider_fields\u001b[0m\u001b[0;34m,\u001b[0m\u001b[0msensitive_class0\u001b[0m\u001b[0;34m,\u001b[0m\u001b[0msensitive_class1\u001b[0m\u001b[0;34m)\u001b[0m\u001b[0;34m\u001b[0m\u001b[0m\n",
      "\u001b[0;32m~/Desktop/INSIGHT/My project/Insight-fairness-in-data-ml/Product1/my_functions_product1.py\u001b[0m in \u001b[0;36mInputting_from_the_user\u001b[0;34m(all_columns, your_data_df)\u001b[0m\n\u001b[1;32m     95\u001b[0m    \u001b[0mwarn_str\u001b[0m \u001b[0;34m=\u001b[0m \u001b[0;34m'Please enter a valid column'\u001b[0m\u001b[0;34m\u001b[0m\u001b[0m\n\u001b[1;32m     96\u001b[0m    \u001b[0mresult_str\u001b[0m \u001b[0;34m=\u001b[0m \u001b[0;34m\"Your target column is \"\u001b[0m\u001b[0;34m\u001b[0m\u001b[0m\n\u001b[0;32m---> 97\u001b[0;31m    \u001b[0mtarget_field\u001b[0m \u001b[0;34m=\u001b[0m \u001b[0minput_from_user\u001b[0m\u001b[0;34m(\u001b[0m\u001b[0minput_str\u001b[0m\u001b[0;34m,\u001b[0m \u001b[0mwarn_str\u001b[0m\u001b[0;34m,\u001b[0m \u001b[0mresult_str\u001b[0m\u001b[0;34m,\u001b[0m \u001b[0mpossible_set\u001b[0m\u001b[0;34m)\u001b[0m\u001b[0;34m\u001b[0m\u001b[0m\n\u001b[0m\u001b[1;32m     98\u001b[0m \u001b[0;34m\u001b[0m\u001b[0m\n\u001b[1;32m     99\u001b[0m    \u001b[0;31m### Inputting user preference for cPrediction Field (Current Prediction Field)\u001b[0m\u001b[0;34m\u001b[0m\u001b[0;34m\u001b[0m\u001b[0m\n",
      "\u001b[0;32m~/Desktop/INSIGHT/My project/Insight-fairness-in-data-ml/Product1/my_functions_product1.py\u001b[0m in \u001b[0;36minput_from_user\u001b[0;34m(input_str, warn_str, result_str, possible_set)\u001b[0m\n\u001b[1;32m     44\u001b[0m     \u001b[0mvalid_input\u001b[0m \u001b[0;34m=\u001b[0m \u001b[0;32mFalse\u001b[0m\u001b[0;34m\u001b[0m\u001b[0m\n\u001b[1;32m     45\u001b[0m     \u001b[0;32mwhile\u001b[0m \u001b[0mvalid_input\u001b[0m \u001b[0;34m==\u001b[0m \u001b[0;32mFalse\u001b[0m\u001b[0;34m:\u001b[0m\u001b[0;34m\u001b[0m\u001b[0m\n\u001b[0;32m---> 46\u001b[0;31m         \u001b[0manswer\u001b[0m \u001b[0;34m=\u001b[0m \u001b[0minput\u001b[0m\u001b[0;34m(\u001b[0m\u001b[0minput_str\u001b[0m\u001b[0;34m)\u001b[0m\u001b[0;34m\u001b[0m\u001b[0m\n\u001b[0m\u001b[1;32m     47\u001b[0m         \u001b[0;32mif\u001b[0m \u001b[0manswer\u001b[0m \u001b[0;32mnot\u001b[0m \u001b[0;32min\u001b[0m \u001b[0mpossible_set\u001b[0m\u001b[0;34m:\u001b[0m\u001b[0;34m\u001b[0m\u001b[0m\n\u001b[1;32m     48\u001b[0m             \u001b[0mprint\u001b[0m\u001b[0;34m(\u001b[0m\u001b[0mwarn_str\u001b[0m\u001b[0;34m)\u001b[0m\u001b[0;34m\u001b[0m\u001b[0m\n",
      "\u001b[0;32m~/anaconda3/envs/fairness-in-ml/lib/python3.6/site-packages/ipykernel/kernelbase.py\u001b[0m in \u001b[0;36mraw_input\u001b[0;34m(self, prompt)\u001b[0m\n\u001b[1;32m    702\u001b[0m             \u001b[0mself\u001b[0m\u001b[0;34m.\u001b[0m\u001b[0m_parent_ident\u001b[0m\u001b[0;34m,\u001b[0m\u001b[0;34m\u001b[0m\u001b[0m\n\u001b[1;32m    703\u001b[0m             \u001b[0mself\u001b[0m\u001b[0;34m.\u001b[0m\u001b[0m_parent_header\u001b[0m\u001b[0;34m,\u001b[0m\u001b[0;34m\u001b[0m\u001b[0m\n\u001b[0;32m--> 704\u001b[0;31m             \u001b[0mpassword\u001b[0m\u001b[0;34m=\u001b[0m\u001b[0;32mFalse\u001b[0m\u001b[0;34m,\u001b[0m\u001b[0;34m\u001b[0m\u001b[0m\n\u001b[0m\u001b[1;32m    705\u001b[0m         )\n\u001b[1;32m    706\u001b[0m \u001b[0;34m\u001b[0m\u001b[0m\n",
      "\u001b[0;32m~/anaconda3/envs/fairness-in-ml/lib/python3.6/site-packages/ipykernel/kernelbase.py\u001b[0m in \u001b[0;36m_input_request\u001b[0;34m(self, prompt, ident, parent, password)\u001b[0m\n\u001b[1;32m    732\u001b[0m             \u001b[0;32mexcept\u001b[0m \u001b[0mKeyboardInterrupt\u001b[0m\u001b[0;34m:\u001b[0m\u001b[0;34m\u001b[0m\u001b[0m\n\u001b[1;32m    733\u001b[0m                 \u001b[0;31m# re-raise KeyboardInterrupt, to truncate traceback\u001b[0m\u001b[0;34m\u001b[0m\u001b[0;34m\u001b[0m\u001b[0m\n\u001b[0;32m--> 734\u001b[0;31m                 \u001b[0;32mraise\u001b[0m \u001b[0mKeyboardInterrupt\u001b[0m\u001b[0;34m\u001b[0m\u001b[0m\n\u001b[0m\u001b[1;32m    735\u001b[0m             \u001b[0;32melse\u001b[0m\u001b[0;34m:\u001b[0m\u001b[0;34m\u001b[0m\u001b[0m\n\u001b[1;32m    736\u001b[0m                 \u001b[0;32mbreak\u001b[0m\u001b[0;34m\u001b[0m\u001b[0m\n",
      "\u001b[0;31mKeyboardInterrupt\u001b[0m: "
     ]
    }
   ],
   "source": [
    "import my_functions_product1 as myFC\n",
    "\n",
    "# reading the file from a path and list the field names and input columns of interest\n",
    "path = 'data/adult.data'\n",
    "X_df, Ybin, Zbin = myFC.read_process_data_output_bias(path)"
   ]
  },
  {
   "cell_type": "code",
   "execution_count": null,
   "metadata": {},
   "outputs": [],
   "source": [
    "\"\"\"import my_functions_product1\n",
    "from my_functions_product1 import read_process_data_output_bias\"\"\""
   ]
  },
  {
   "cell_type": "code",
   "execution_count": null,
   "metadata": {},
   "outputs": [],
   "source": []
  },
  {
   "cell_type": "markdown",
   "metadata": {},
   "source": [
    "### Train test split"
   ]
  },
  {
   "cell_type": "code",
   "execution_count": 5,
   "metadata": {},
   "outputs": [
    {
     "name": "stdout",
     "output_type": "stream",
     "text": [
      "<class 'pandas.core.frame.DataFrame'> (32560, 100)\n",
      "<class 'pandas.core.frame.DataFrame'> (32560, 14)\n"
     ]
    }
   ],
   "source": [
    "X = pd.get_dummies(X_df,drop_first=True) \n",
    "print(type(X),X.shape)\n",
    "print(type(X_df),X_df.shape)"
   ]
  },
  {
   "cell_type": "code",
   "execution_count": 6,
   "metadata": {},
   "outputs": [
    {
     "name": "stdout",
     "output_type": "stream",
     "text": [
      "(16280, 100)\n",
      "(16280, 100)\n",
      "(16280, 100)\n",
      "(16280, 100)\n"
     ]
    }
   ],
   "source": [
    "#X = pd.get_dummies(X_df,drop_first=True) \n",
    "Y = Ybin \n",
    "Z = Zbin\n",
    "test_train_ratio = 0.5\n",
    "\n",
    "#TODO: Can I do this in Keras?\n",
    "# TODO : what should be left to the user\n",
    "\n",
    "# split into train/test set\n",
    "X_train, X_test, y_train, y_test, Z_train, Z_test = train_test_split(X, Y, Z, test_size=test_train_ratio, \n",
    "                                                                     stratify=Y, random_state=7)\n",
    "\n",
    "# standardize the data\n",
    "scaler = StandardScaler().fit(X_train)\n",
    "scale_df = lambda df, scaler: pd.DataFrame(scaler.transform(df), columns=df.columns, index=df.index)\n",
    "X_train = X_train.pipe(scale_df, scaler) \n",
    "X_test = X_test.pipe(scale_df, scaler) \n",
    "\n",
    "print(X_train.shape)\n",
    "print(X_test.shape)\n",
    "\n",
    "#X_train = np.array(X_train)\n",
    "#X_test = np.array(X_test)\n",
    "\n",
    "print(X_train.shape)\n",
    "print(X_test.shape)"
   ]
  },
  {
   "cell_type": "markdown",
   "metadata": {},
   "source": [
    "### Your model"
   ]
  },
  {
   "cell_type": "code",
   "execution_count": 7,
   "metadata": {},
   "outputs": [],
   "source": [
    "def nn_classifier(n_features):\n",
    "    inputs = Input(shape=(n_features,))\n",
    "    dense1 = Dense(32, activation='relu')(inputs)\n",
    "    dropout1 = Dropout(0.2)(dense1)\n",
    "    dense2 = Dense(32, activation='relu')(dropout1)\n",
    "    dropout2 = Dropout(0.2)(dense2)\n",
    "    dense3 = Dense(32, activation=\"relu\")(dropout2)\n",
    "    dropout3 = Dropout(0.2)(dense3)\n",
    "    dense4 = Dense(32, activation=\"relu\")(dropout3)\n",
    "    dropout4 = Dropout(0.2)(dense4)\n",
    "    outputs = Dense(1, activation='sigmoid')(dropout4)\n",
    "    model = Model(inputs=[inputs], outputs=[outputs])\n",
    "    #model.compile(loss='binary_crossentropy', optimizer='adam')\n",
    "    return model"
   ]
  },
  {
   "cell_type": "code",
   "execution_count": 8,
   "metadata": {},
   "outputs": [],
   "source": [
    "main_task_arch = nn_classifier(n_features=X_train.shape[1])\n",
    "\n",
    "main_task_arch_json_string = main_task_arch.to_json()\n",
    "\n",
    "\n",
    "main_task_ori = model_from_json(main_task_arch_json_string)\n",
    "# initialise NeuralNet Classifier\n",
    "\n",
    "main_task_ori.compile(loss='binary_crossentropy', optimizer='adam')"
   ]
  },
  {
   "cell_type": "code",
   "execution_count": 9,
   "metadata": {},
   "outputs": [],
   "source": [
    "# train on train set\n",
    "history = main_task_ori.fit(X_train, y_train, epochs=20, verbose=0)"
   ]
  },
  {
   "cell_type": "code",
   "execution_count": 10,
   "metadata": {},
   "outputs": [
    {
     "data": {
      "text/plain": [
       "(16280,)"
      ]
     },
     "execution_count": 10,
     "metadata": {},
     "output_type": "execute_result"
    }
   ],
   "source": [
    "main_task_ori.predict(X_test).ravel().shape"
   ]
  },
  {
   "cell_type": "code",
   "execution_count": 11,
   "metadata": {},
   "outputs": [],
   "source": [
    "# predict on test set\n",
    "y_pred = main_task_ori.predict(X_test).ravel()#, index=y_test.index\n",
    "y_hat = (y_pred>0.5)*1"
   ]
  },
  {
   "cell_type": "code",
   "execution_count": 12,
   "metadata": {},
   "outputs": [],
   "source": [
    "def main_task_performance(X_test,y_test,y_hat):\n",
    "\n",
    "    main_task_accuracy = accuracy_score(y_test, y_hat)\n",
    "    return main_task_accuracy"
   ]
  },
  {
   "cell_type": "code",
   "execution_count": 13,
   "metadata": {},
   "outputs": [
    {
     "name": "stdout",
     "output_type": "stream",
     "text": [
      "Accuracy: 85.37\n",
      "p_rule_for_Y1 32.85\n"
     ]
    }
   ],
   "source": [
    "main_task_accuracy = main_task_performance(X_test,y_test,y_hat)    \n",
    "print('Accuracy: {}'.format(format(100*main_task_accuracy,'.2f')))\n",
    "\n",
    "p_rule_for_Y0,p_rule_for_Y1 = myFC.bias_checker_p_rule_bin(Z_test, y_hat)   \n",
    "\n",
    "print('p_rule_for_Y1',p_rule_for_Y1)"
   ]
  },
  {
   "cell_type": "code",
   "execution_count": null,
   "metadata": {},
   "outputs": [],
   "source": []
  },
  {
   "cell_type": "markdown",
   "metadata": {},
   "source": [
    "### Adding adversarial net"
   ]
  },
  {
   "cell_type": "code",
   "execution_count": 14,
   "metadata": {},
   "outputs": [],
   "source": [
    "        \n",
    "def adv_net_arch(inputs):\n",
    "    dense1 = Dense(32, activation='relu')(inputs)\n",
    "    dense2 = Dense(32, activation='relu')(dense1)\n",
    "    dense3 = Dense(32, activation='relu')(dense2)\n",
    "    dense4 = Dense(32, activation=\"relu\")(dense3)\n",
    "    outputs = Dense(1, activation='sigmoid')(dense4)# for _ in range(n_sensitive)]\n",
    "    return Model(inputs=[inputs], outputs=outputs)\n",
    "    \n",
    "adv_inputs = Input(shape=(1,))\n",
    "adv_task_arch = adv_net_arch(adv_inputs)\n",
    "\n",
    "adv_task_arch_json_string = adv_task_arch.to_json()\n",
    "    \n",
    "\n",
    "\n",
    "\n",
    "\n",
    "\n"
   ]
  },
  {
   "cell_type": "code",
   "execution_count": 15,
   "metadata": {},
   "outputs": [],
   "source": [
    "# HIDE\n",
    "\n",
    "class FairClassifier(object):\n",
    "    \n",
    "    def __init__(self, tradeoff_lambda,main_task_arch_json_string,adv_task_arch_json_string):\n",
    "        self.tradeoff_lambda = tradeoff_lambda\n",
    "        \n",
    "        \n",
    "        \n",
    "        clf_net = self._create_clf_net(main_task_arch_json_string)\n",
    "        adv_net = self._create_adv_net(adv_task_arch_json_string)\n",
    "        \n",
    "        clf_inputs = clf_net.input\n",
    "        \n",
    "        adv_inputs = adv_net.input\n",
    "\n",
    "        \n",
    "        self._trainable_clf_net = self._make_trainable(clf_net)\n",
    "        self._trainable_adv_net = self._make_trainable(adv_net)\n",
    "        self._clf = self._compile_clf(clf_net)\n",
    "        \n",
    "        self._clf_w_adv = self._compile_clf_w_adv(clf_inputs, clf_net, adv_net)\n",
    "        self._adv = self._compile_adv(clf_inputs, clf_net, adv_net)\n",
    "        self._val_metrics = None\n",
    "        self._fairness_metrics = None\n",
    "        \n",
    "        self.predict = self._clf.predict\n",
    "        \n",
    "    def _make_trainable(self, net):\n",
    "        def make_trainable(flag):\n",
    "            net.trainable = flag\n",
    "            for layer in net.layers:\n",
    "                layer.trainable = flag\n",
    "        return make_trainable\n",
    "        \n",
    "    \"\"\"def _create_clf_net(self, inputs):\n",
    "        dense1 = Dense(32, activation='relu')(inputs)\n",
    "        dropout1 = Dropout(0.2)(dense1)\n",
    "        dense2 = Dense(32, activation='relu')(dropout1)\n",
    "        dropout2 = Dropout(0.2)(dense2)\n",
    "        dense3 = Dense(32, activation='relu')(dropout2)\n",
    "        dropout3 = Dropout(0.2)(dense3)\n",
    "        dense4 = Dense(32, activation=\"relu\")(dropout3)\n",
    "        dropout4 = Dropout(0.2)(dense4)\n",
    "        outputs = Dense(1, activation='sigmoid', name='y')(dropout4)\n",
    "        return Model(inputs=[inputs], outputs=[outputs])\"\"\"\n",
    "    \n",
    "    def _create_clf_net(self, main_task_arch_json_string):\n",
    "        architecture = model_from_json(main_task_arch_json_string)\n",
    "        return(architecture)\n",
    "        \n",
    "    \"\"\"def _create_adv_net(self, inputs):\n",
    "        dense1 = Dense(32, activation='relu')(inputs)\n",
    "        dense2 = Dense(32, activation='relu')(dense1)\n",
    "        dense3 = Dense(32, activation='relu')(dense2)\n",
    "        dense4 = Dense(32, activation=\"relu\")(dense3)\n",
    "        outputs = Dense(1, activation='sigmoid')(dense4)# for _ in range(n_sensitive)]\n",
    "        return Model(inputs=[inputs], outputs=outputs)\"\"\"\n",
    "    \n",
    "    def _create_adv_net(self, adv_task_arch_json_string):\n",
    "        architecture = model_from_json(adv_task_arch_json_string)\n",
    "        return(architecture)    \n",
    "\n",
    "    def _compile_clf(self, clf_net):\n",
    "        clf = clf_net\n",
    "        self._trainable_clf_net(True)\n",
    "        clf.compile(loss='binary_crossentropy', optimizer='adam')\n",
    "        return clf\n",
    "        \n",
    "    def _compile_clf_w_adv(self, inputs, clf_net, adv_net):\n",
    "\n",
    "        clf_w_adv = Model(inputs=[inputs], outputs=[clf_net(inputs)]+[adv_net(clf_net(inputs))])\n",
    "        \n",
    "        self._trainable_clf_net(True)\n",
    "        self._trainable_adv_net(False)\n",
    "        loss_weights = [1.]+[-self.tradeoff_lambda]\n",
    "        \n",
    "        clf_w_adv.compile(loss=['binary_crossentropy']*(len(loss_weights)), \n",
    "                          loss_weights=loss_weights,\n",
    "                          optimizer='adam')\n",
    "        return clf_w_adv\n",
    "\n",
    "    def _compile_adv(self, inputs, clf_net, adv_net):\n",
    "        adv = Model(inputs=[inputs], outputs=adv_net(clf_net(inputs)))\n",
    "        self._trainable_clf_net(False)\n",
    "        self._trainable_adv_net(True)\n",
    "        adv.compile(loss=['binary_crossentropy'], optimizer='adam')\n",
    "        return adv\n",
    "\n",
    "    def _compute_class_weights(self, data_set):\n",
    "        class_values = [0, 1]\n",
    "        class_weights = []\n",
    "        \n",
    "        \"\"\"\n",
    "        balanced_weights = compute_class_weight('balanced', class_values, data_set)\n",
    "        class_weights.append(dict(zip(class_values, balanced_weights)))\n",
    "        \n",
    "        \"\"\"\n",
    "        if len(data_set.shape) == 1:\n",
    "            balanced_weights = compute_class_weight('balanced', class_values, data_set)\n",
    "            class_weights.append(dict(zip(class_values, balanced_weights)))\n",
    "        else:\n",
    "            n_attr =  data_set.shape[1]\n",
    "            for attr_idx in range(n_attr):\n",
    "                balanced_weights = compute_class_weight('balanced', class_values,\n",
    "                                                        np.array(data_set)[:,attr_idx])\n",
    "                class_weights.append(dict(zip(class_values, balanced_weights)))\n",
    "              \n",
    "                \n",
    "        return class_weights\n",
    "    \n",
    "    def _compute_target_class_weights(self, y):\n",
    "        class_values  = [0,1]\n",
    "        balanced_weights =  compute_class_weight('balanced', class_values, y)\n",
    "        class_weights = {'y': dict(zip(class_values, balanced_weights))}\n",
    "        \n",
    "        return class_weights\n",
    "        \n",
    "    def pretrain(self, x, y, z, epochs=10, verbose=0):\n",
    "        self._trainable_clf_net(True)\n",
    "        self._clf.fit(x.values, y.values, epochs=epochs, verbose=verbose)\n",
    "        self._trainable_clf_net(False)\n",
    "        self._trainable_adv_net(True)\n",
    "        class_weight_adv = self._compute_class_weights(z)\n",
    "        self._adv.fit(x.values, z.values, class_weight=class_weight_adv, \n",
    "                      epochs=epochs, verbose=verbose)\n",
    "        \n",
    "    def fit(self, x, y, z, validation_data=None, T_iter=250, batch_size=128,\n",
    "            save_figs=False):\n",
    "        \n",
    "        \n",
    "        if validation_data is not None:\n",
    "            x_val, y_val, z_val = validation_data\n",
    "\n",
    "        class_weight_adv = self._compute_class_weights(z)\n",
    "        class_weight_clf_w_adv = [{0:1., 1:1.}]+class_weight_adv\n",
    "        \n",
    "        self._val_metrics = pd.DataFrame()\n",
    "        self._fairness_metrics = [] #pd.DataFrame()  \n",
    "        \n",
    "        for idx in range(T_iter):\n",
    "            print(idx)\n",
    "            if validation_data is not None:\n",
    "                y_pred = pd.Series(self._clf.predict(x_val).ravel(), index=y_val.index)\n",
    "                self._val_metrics.loc[idx, 'ROC AUC'] = roc_auc_score(y_val, y_pred)\n",
    "                self._val_metrics.loc[idx, 'Accuracy'] = (accuracy_score(y_val, (y_pred>0.5))*100)\n",
    "                \n",
    "               \n",
    "                self._fairness_metrics.append(myFC.bias_checker_p_rule_bin((y_pred>0.5)*1.0,z_val))\n",
    "                \n",
    "                display.clear_output(wait=True)\n",
    "\n",
    "            # train adverserial\n",
    "            self._trainable_clf_net(False)\n",
    "            self._trainable_adv_net(True)\n",
    "            self._adv.fit(x.values, z.values, batch_size=batch_size, \n",
    "                          class_weight=class_weight_adv, epochs=1, verbose=0)\n",
    "            \n",
    "            # train classifier\n",
    "            self._trainable_clf_net(True)\n",
    "            self._trainable_adv_net(False)\n",
    "            indices = np.random.permutation(len(x))[:batch_size]\n",
    "            #self._clf_w_adv.train_on_batch(x.values[indices], \n",
    "                                           #[y.values[indices]]+[z.values[indices]])\n",
    "            self._clf_w_adv.train_on_batch(x.values[indices], \n",
    "                                           [y.values[indices]]+[z.values[indices]],\n",
    "                                           class_weight=class_weight_clf_w_adv)"
   ]
  },
  {
   "cell_type": "code",
   "execution_count": 16,
   "metadata": {},
   "outputs": [],
   "source": [
    "tradeoff_lambda = 100.\n",
    "\n",
    "#lambda_race=130\n",
    "#lambda_sex=30\n",
    "# initialise FairClassifier\n",
    "clf = FairClassifier(tradeoff_lambda=tradeoff_lambda,\n",
    "                     main_task_arch_json_string=main_task_arch_json_string,\n",
    "                     adv_task_arch_json_string=adv_task_arch_json_string)\n"
   ]
  },
  {
   "cell_type": "markdown",
   "metadata": {},
   "source": [
    "### Pre train and its results"
   ]
  },
  {
   "cell_type": "code",
   "execution_count": 17,
   "metadata": {},
   "outputs": [],
   "source": [
    "#print(bu0)\n",
    "# pre-train both adverserial and classifier networks\n",
    "clf.pretrain(X_train, y_train, Z_train, verbose=0, epochs=5)"
   ]
  },
  {
   "cell_type": "code",
   "execution_count": 18,
   "metadata": {},
   "outputs": [
    {
     "name": "stdout",
     "output_type": "stream",
     "text": [
      "Accuracy: 84.93\n",
      "p_rule_for_Y1 27.56\n"
     ]
    }
   ],
   "source": [
    "\n",
    "# predict on test set\n",
    "y_pred = clf.predict(X_test).ravel()#, index=y_test.index\n",
    "y_hat = (y_pred>0.5)*1\n",
    "\n",
    "\n",
    "main_task_accuracy = main_task_performance(X_test,y_test,y_hat)    \n",
    "print('Accuracy: {}'.format(format(100*main_task_accuracy,'.2f')))\n",
    "\n",
    "p_rule_for_Y0,p_rule_for_Y1 = myFC.bias_checker_p_rule_bin(Z_test, y_hat)   \n",
    "\n",
    "print('p_rule_for_Y1',p_rule_for_Y1)\n",
    "\n"
   ]
  },
  {
   "cell_type": "code",
   "execution_count": 19,
   "metadata": {},
   "outputs": [
    {
     "data": {
      "image/png": "[encoded data removed]",
      "text/plain": [
       "<Figure size 432x288 with 1 Axes>"
      ]
     },
     "metadata": {},
     "output_type": "display_data"
    }
   ],
   "source": [
    "ax = sns.distplot(y_pred[Z_test == 0], hist=False, \n",
    "                              kde_kws={'shade': True,},\n",
    "                              label='{}'.format('0'))\n",
    "ax = sns.distplot(y_pred[Z_test == 1], hist=False, \n",
    "                              kde_kws={'shade': True,},\n",
    "                              label='{}'.format('1'))"
   ]
  },
  {
   "cell_type": "markdown",
   "metadata": {},
   "source": [
    "### Adversarial train and its resuls"
   ]
  },
  {
   "cell_type": "code",
   "execution_count": 20,
   "metadata": {},
   "outputs": [
    {
     "name": "stdout",
     "output_type": "stream",
     "text": [
      "164\n"
     ]
    }
   ],
   "source": [
    "# adverserial train on train set and validate on test set\n",
    "clf.fit(X_train, y_train, Z_train, \n",
    "        validation_data=(X_test, y_test, Z_test),\n",
    "        T_iter=165, save_figs=create_gif)"
   ]
  },
  {
   "cell_type": "code",
   "execution_count": 26,
   "metadata": {},
   "outputs": [
    {
     "name": "stdout",
     "output_type": "stream",
     "text": [
      "Accuracy: 81.01\n",
      "p_rule_for_Y1 99.68\n"
     ]
    }
   ],
   "source": [
    "# predict on test set\n",
    "y_pred = clf.predict(X_test).ravel()#, index=y_test.index\n",
    "y_hat = (y_pred>0.5)*1\n",
    "\n",
    "\n",
    "main_task_accuracy = main_task_performance(X_test,y_test,y_hat)    \n",
    "print('Accuracy: {}'.format(format(100*main_task_accuracy,'.2f')))\n",
    "\n",
    "p_rule_for_Y0,p_rule_for_Y1 = myFC.bias_checker_p_rule_bin(Z_test, y_hat)   \n",
    "\n",
    "print('p_rule_for_Y1',p_rule_for_Y1)\n"
   ]
  },
  {
   "cell_type": "code",
   "execution_count": 23,
   "metadata": {},
   "outputs": [
    {
     "data": {
      "image/png": "[encoded data removed]",
      "text/plain": [
       "<Figure size 432x288 with 1 Axes>"
      ]
     },
     "metadata": {},
     "output_type": "display_data"
    }
   ],
   "source": [
    "ax = sns.distplot(y_pred[Z_test == 0], hist=False, \n",
    "                              kde_kws={'shade': True,},\n",
    "                              label='{}'.format('0'))\n",
    "ax = sns.distplot(y_pred[Z_test == 1], hist=False, \n",
    "                              kde_kws={'shade': True,},\n",
    "                              label='{}'.format('1'))"
   ]
  },
  {
   "cell_type": "code",
   "execution_count": 24,
   "metadata": {},
   "outputs": [
    {
     "data": {
      "text/plain": [
       "'/Users/bursaliogluozgun/Desktop/INSIGHT/My project/Insight-fairness-in-data-ml/Product1'"
      ]
     },
     "execution_count": 24,
     "metadata": {},
     "output_type": "execute_result"
    }
   ],
   "source": [
    "pwd"
   ]
  },
  {
   "cell_type": "code",
   "execution_count": 25,
   "metadata": {},
   "outputs": [
    {
     "name": "stdout",
     "output_type": "stream",
     "text": [
      "\u001b[31mREADME.md\u001b[m\u001b[m*                \u001b[34mdata\u001b[m\u001b[m/                     \u001b[31mproduct1_main.py\u001b[m\u001b[m*\r\n",
      "\u001b[34m__pycache__\u001b[m\u001b[m/              my_functions_product1.py  step_by_step-7.ipynb\r\n"
     ]
    }
   ],
   "source": [
    "ls"
   ]
  },
  {
   "cell_type": "code",
   "execution_count": null,
   "metadata": {},
   "outputs": [],
   "source": []
  }
 ],
 "metadata": {
  "kernelspec": {
   "display_name": "Python 3",
   "language": "python",
   "name": "python3"
  },
  "language_info": {
   "codemirror_mode": {
    "name": "ipython",
    "version": 3
   },
   "file_extension": ".py",
   "mimetype": "text/x-python",
   "name": "python",
   "nbconvert_exporter": "python",
   "pygments_lexer": "ipython3",
   "version": "3.6.5"
  }
 },
 "nbformat": 4,
 "nbformat_minor": 2
}
