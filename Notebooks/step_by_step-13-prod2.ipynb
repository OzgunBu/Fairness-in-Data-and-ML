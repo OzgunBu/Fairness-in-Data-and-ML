{
 "cells": [
  {
   "cell_type": "code",
   "execution_count": 1,
   "metadata": {},
   "outputs": [
    {
     "ename": "SyntaxError",
     "evalue": "unexpected character after line continuation character (<ipython-input-1-7cff4e551670>, line 34)",
     "output_type": "error",
     "traceback": [
      "\u001b[0;36m  File \u001b[0;32m\"<ipython-input-1-7cff4e551670>\"\u001b[0;36m, line \u001b[0;32m34\u001b[0m\n\u001b[0;31m    import \\src\\my_functions_product1 as myFC\u001b[0m\n\u001b[0m                                             ^\u001b[0m\n\u001b[0;31mSyntaxError\u001b[0m\u001b[0;31m:\u001b[0m unexpected character after line continuation character\n"
     ]
    }
   ],
   "source": [
    "# HIDE\n",
    "import pandas as pd\n",
    "import numpy as np\n",
    "np.random.seed(7)\n",
    "import matplotlib.pyplot as plt\n",
    "import seaborn as sns\n",
    "sns.set(style=\"white\", palette=\"muted\", color_codes=True, context=\"talk\")\n",
    "from IPython import display\n",
    "%matplotlib inline\n",
    "\n",
    "import sklearn as sk\n",
    "from sklearn.model_selection import train_test_split\n",
    "from sklearn.preprocessing import StandardScaler\n",
    "from sklearn.metrics import accuracy_score, roc_auc_score\n",
    "from sklearn.utils.class_weight import compute_class_weight\n",
    "\n",
    "import keras as ke\n",
    "import keras.backend as K\n",
    "from keras.layers import Input, Dense, Dropout\n",
    "from keras.models import Model\n",
    "from keras.models import load_model\n",
    "\n",
    "\n",
    "create_gif = False\n",
    "\n",
    "# model reconstruction from JSON:\n",
    "from keras.models import model_from_json\n",
    "\n",
    "print(f\"sklearn: {sk.__version__}\")\n",
    "print(f\"pandas: {pd.__version__}\")\n",
    "print(f\"kerads: {ke.__version__}\")\n",
    "\n",
    "\n",
    "import my_functions_product1 as myFC\n",
    "import matplotlib.pyplot as plt"
   ]
  },
  {
   "cell_type": "code",
   "execution_count": 16,
   "metadata": {},
   "outputs": [],
   "source": [
    "#feature_path = 'Feature-Datasets/adult/'\n",
    "#data_filename = 'adult.data'\n",
    "\n",
    "\n",
    "\n",
    "feature_path = 'Feature-Datasets/bank/'\n",
    "data_filename = 'bank.csv'"
   ]
  },
  {
   "cell_type": "markdown",
   "metadata": {},
   "source": [
    "## Input your architecture and trained model"
   ]
  },
  {
   "cell_type": "code",
   "execution_count": 18,
   "metadata": {},
   "outputs": [
    {
     "name": "stdout",
     "output_type": "stream",
     "text": [
      "Enter text filename to read your json string for your main architecture file:user1_main_task_arch_json_string_file.txt\n",
      "Enter text filename to read your json string for your adv architecture file:user1_adv_task_arch_json_string_file.txt\n",
      "As for model, do you want to just upload the untrained architecture or the trained model? Please enter 'trained' or 'untrained'untrained\n",
      "Trained or untrained : 'untrained'\n",
      "-----------------------------------\n",
      "\n"
     ]
    }
   ],
   "source": [
    "#TODO: for the user provided paths check the file format:\n",
    "\n",
    "user_main_json_text_file = input('Enter text filename to read your json string for your main architecture file:')\n",
    "user_main_json_text_file = feature_path + user_main_json_text_file\n",
    "    \n",
    "user_adv_json_text_file = input('Enter text filename to read your json string for your adv architecture file:')\n",
    "user_adv_json_text_file = feature_path + user_adv_json_text_file\n",
    "\n",
    "\n",
    "possible_set = ['trained','untrained']\n",
    "input_str = \"As for model, do you want to just upload the untrained architecture or the trained model? Please enter 'trained' or 'untrained'\"\n",
    "warn_str = \"Please enter 'trained' or 'untrained'\"\n",
    "result_str = \"Trained or untrained : \"\n",
    "train_or_untrain = myFC.input_from_user(input_str, warn_str, result_str, possible_set)\n",
    "\n",
    "if train_or_untrain == 'trained':\n",
    "    user_h5_file = input('Enter your .h5 filename: ')\n",
    "    user_h5_file = feature_path + user_h5_file\n",
    "else:\n",
    "    new_h5_file = feature_path + 'new_h5_file_trained_here.h5'\n",
    "\n",
    "result_fname = feature_path + 'Trade-off-results/'\n",
    "#user1_main_task_arch_json_string_file.txt\n",
    "#user1_adv_task_arch_json_string_file.txt\n",
    "#user1_main_task_ori_trained_model.h5"
   ]
  },
  {
   "cell_type": "markdown",
   "metadata": {},
   "source": [
    "### Reading the json files for main task and adversary"
   ]
  },
  {
   "cell_type": "code",
   "execution_count": 20,
   "metadata": {},
   "outputs": [],
   "source": [
    "\n",
    "main_task_arch_json_string_file = user_main_json_text_file\n",
    "with open(main_task_arch_json_string_file,\"rt\") as in_file:\n",
    "    main_task_arch_json_string = in_file.read()\n",
    "    \n",
    "adv_task_arch_json_string_file = user_adv_json_text_file\n",
    "with open(adv_task_arch_json_string_file,\"rt\") as in_file:\n",
    "    adv_task_arch_json_string = in_file.read()\n",
    "    "
   ]
  },
  {
   "cell_type": "markdown",
   "metadata": {},
   "source": [
    "### Feature Reading"
   ]
  },
  {
   "cell_type": "code",
   "execution_count": 21,
   "metadata": {},
   "outputs": [
    {
     "name": "stdout",
     "output_type": "stream",
     "text": [
      "(20594, 52)\n",
      "(20594,)\n",
      "(20594,)\n",
      "(20594, 52)\n",
      "(20594,)\n",
      "(20594,)\n"
     ]
    }
   ],
   "source": [
    "X_train, Z_train, y_train = myFC.feature_file_reading(feature_path,'train')\n",
    "print(X_train.shape)\n",
    "print(y_train.shape)\n",
    "print(Z_train.shape)\n",
    "\n",
    "X_test, Z_test, y_test = myFC.feature_file_reading(feature_path,'test')\n",
    "print(X_test.shape)\n",
    "print(y_test.shape)\n",
    "print(Z_test.shape)"
   ]
  },
  {
   "cell_type": "markdown",
   "metadata": {},
   "source": [
    "### Setting up default architectures"
   ]
  },
  {
   "cell_type": "code",
   "execution_count": 7,
   "metadata": {},
   "outputs": [
    {
     "data": {
      "text/plain": [
       "'n_features = X_train.shape[1]\\nmain_task_arch_json_string, adv_task_arch_json_string = myFC.Default_main_task_adv_architecture(n_features)'"
      ]
     },
     "execution_count": 7,
     "metadata": {},
     "output_type": "execute_result"
    }
   ],
   "source": [
    "\"\"\"n_features = X_train.shape[1]\n",
    "main_task_arch_json_string, adv_task_arch_json_string = myFC.Default_main_task_adv_architecture(n_features)\"\"\""
   ]
  },
  {
   "cell_type": "markdown",
   "metadata": {},
   "source": [
    "## Model and compile only main task: check prediction results"
   ]
  },
  {
   "cell_type": "code",
   "execution_count": 22,
   "metadata": {},
   "outputs": [
    {
     "name": "stdout",
     "output_type": "stream",
     "text": [
      "(20594, 52)\n",
      "(20594,)\n",
      "Accuracy: 90.86\n"
     ]
    }
   ],
   "source": [
    "if train_or_untrain == 'trained':\n",
    "    #user already provides trained weight\n",
    "    h5_file_name = user_h5_file\n",
    "    save_the_weights = False\n",
    "    main_task_accuracy, p_rule_for_Y1, y_pred = myFC.pre_train_main_task(main_task_arch_json_string,X_train, y_train,X_test,y_test,Z_test,save_the_weights=save_the_weights,h5_file_name=h5_file_name)\n",
    "else:\n",
    "    # no weights provided by the user, we will save the file\n",
    "    h5_file_name = new_h5_file\n",
    "    save_the_weights = True\n",
    "    main_task_accuracy, p_rule_for_Y1, y_pred = myFC.pre_train_main_task(main_task_arch_json_string,X_train, y_train,X_test,y_test,Z_test,save_the_weights=save_the_weights,h5_file_name=h5_file_name)\n",
    "\n"
   ]
  },
  {
   "cell_type": "markdown",
   "metadata": {},
   "source": [
    "## Combining the main task arch with the adversarial arch\n",
    "## Train using pre-trained weights of main model"
   ]
  },
  {
   "cell_type": "code",
   "execution_count": 23,
   "metadata": {},
   "outputs": [
    {
     "name": "stdout",
     "output_type": "stream",
     "text": [
      "tradeoff_lambda =  20\n",
      "Accuracy: 90.86\n",
      "Accuracy: 89.37\n",
      "buras1 Feature-Datasets/bank/Trade-off-results/\n",
      "bura2 Feature-Datasets/bank/Trade-off-results/Result_acc_p_BA_L20.txt\n",
      "tradeoff_lambda =  100\n",
      "Accuracy: 90.86\n",
      "Accuracy: 89.16\n",
      "buras1 Feature-Datasets/bank/Trade-off-results/\n",
      "bura2 Feature-Datasets/bank/Trade-off-results/Result_acc_p_BA_L100.txt\n"
     ]
    }
   ],
   "source": [
    "tradeoff_lambda_v = [20, 100] \n",
    "pre_load_flag = True\n",
    "\n",
    "#main_task_trained_weight_file = 'main_task_ori_trained_model.h5'\n",
    "\n",
    "#result_fname = feature_path + '/Trade-off-results/'\n",
    "\n",
    "if train_or_untrain == 'trained':\n",
    "    #user already provides trained weight\n",
    "    main_task_trained_weight_file = user_h5_file\n",
    "else:\n",
    "    # no weights provided by the user, we will save the file\n",
    "    main_task_trained_weight_file = new_h5_file\n",
    "\n",
    "\n",
    "\n",
    "\n",
    "for tradeoff_lambda in tradeoff_lambda_v:\n",
    "    print('tradeoff_lambda = ', tradeoff_lambda)\n",
    "    # initialise FairClassifier\n",
    "    clf = myFC.FairClassifier(tradeoff_lambda=tradeoff_lambda,\n",
    "                     main_task_arch_json_string=main_task_arch_json_string,\n",
    "                     adv_task_arch_json_string=adv_task_arch_json_string,\n",
    "                     pre_load_flag=pre_load_flag,main_task_trained_weight_file=main_task_trained_weight_file)\n",
    "    \n",
    "    # pre-train both adverserial and classifier networks\n",
    "    clf.pretrain(X_train, y_train, Z_train, verbose=0, epochs=5,pre_load_flag=pre_load_flag,main_task_trained_weight_file=main_task_trained_weight_file)\n",
    "    before_main_task_accuracy, before_p_rule_for_Y1,before_y_pred = myFC.bias_accuracy_performance(X_test,y_test,Z_test,clf)\n",
    "    \n",
    "    # adverserial train on train set and validate on test set\n",
    "    clf.fit(X_train, y_train, Z_train, \n",
    "            validation_data=(X_test, y_test, Z_test),\n",
    "            T_iter=165, save_figs=create_gif)\n",
    "    after_main_task_accuracy, after_p_rule_for_Y1,after_y_pred = myFC.bias_accuracy_performance(X_test,y_test,Z_test,clf)\n",
    "    \n",
    "    \n",
    "    result_fname_y_pred_before_after,result_fname_acc_p_before_after = myFC.saving_performance_result(before_main_task_accuracy, before_p_rule_for_Y1,before_y_pred, after_main_task_accuracy, after_p_rule_for_Y1,after_y_pred,tradeoff_lambda,result_fname)\n",
    "\n",
    "\n"
   ]
  },
  {
   "cell_type": "markdown",
   "metadata": {},
   "source": [
    "# Reading the result files"
   ]
  },
  {
   "cell_type": "markdown",
   "metadata": {},
   "source": [
    "### Accuracy & p-score trade-off curves"
   ]
  },
  {
   "cell_type": "code",
   "execution_count": 24,
   "metadata": {},
   "outputs": [],
   "source": [
    "tradeoff_lambda_v = [20,100] \n",
    "\n",
    "Bacc_Bp_Aacc_Ap_results = np.zeros([len(tradeoff_lambda_v),4])\n",
    "\n",
    "Bacc_Bp_Aacc_Ap_results = np.zeros([len(tradeoff_lambda_v),4])\n",
    "\n",
    "for item in range(len(tradeoff_lambda_v)):\n",
    "    \n",
    "    tradeoff_lambda = tradeoff_lambda_v[item]\n",
    "    result_fname_acc_p_before_after = result_fname +'Result_acc_p_BA_' + 'L'+ str(tradeoff_lambda)+'.txt'\n",
    "    #result_fname_acc_p_before_after = './Trade-off-results/'+result_fname_acc_p_before_after\n",
    "    Bacc_Bp_Aacc_Ap = np.loadtxt(result_fname_acc_p_before_after, delimiter=',')\n",
    "\n",
    "    Bacc_Bp_Aacc_Ap_results[item, :] = Bacc_Bp_Aacc_Ap\n",
    "    \n"
   ]
  },
  {
   "cell_type": "code",
   "execution_count": 25,
   "metadata": {},
   "outputs": [
    {
     "data": {
      "text/plain": [
       "Text(0.5,1,'Trade off')"
      ]
     },
     "execution_count": 25,
     "metadata": {},
     "output_type": "execute_result"
    },
    {
     "data": {
      "image/png": "[encoded data removed]",
      "text/plain": [
       "<Figure size 432x288 with 1 Axes>"
      ]
     },
     "metadata": {},
     "output_type": "display_data"
    }
   ],
   "source": [
    "plt.plot(Bacc_Bp_Aacc_Ap_results[:,3], 100*Bacc_Bp_Aacc_Ap_results[:,2])\n",
    "plt.xlabel('p-score')\n",
    "plt.ylabel('accuracy')\n",
    "plt.title('Trade off')"
   ]
  },
  {
   "cell_type": "markdown",
   "metadata": {},
   "source": [
    "### y_pred distribution curves"
   ]
  },
  {
   "cell_type": "code",
   "execution_count": 26,
   "metadata": {},
   "outputs": [],
   "source": [
    "result_fname_y_pred_before_after = result_fname + 'Result_y_pred_'+'L' + str(tradeoff_lambda) +'.txt'\n",
    "#result_fname_y_pred_before_after = './Trade-off-results/'+ result_fname_y_pred_before_after\n",
    "\n",
    "BA_y_pred = np.loadtxt(result_fname_y_pred_before_after, delimiter=',')"
   ]
  },
  {
   "cell_type": "markdown",
   "metadata": {},
   "source": [
    "#### Before the de-biaser"
   ]
  },
  {
   "cell_type": "code",
   "execution_count": 27,
   "metadata": {},
   "outputs": [
    {
     "data": {
      "image/png": "[encoded data removed]",
      "text/plain": [
       "<Figure size 432x288 with 1 Axes>"
      ]
     },
     "metadata": {},
     "output_type": "display_data"
    }
   ],
   "source": [
    "ax = sns.distplot(BA_y_pred[Z_test == 0,0], hist=False, \n",
    "                  kde_kws={'shade': True,},\n",
    "                  label='{}'.format('0'))\n",
    "\n",
    "ax = sns.distplot(BA_y_pred[Z_test == 1,0], hist=False, \n",
    "                  kde_kws={'shade': True,},\n",
    "                  label='{}'.format('1'))"
   ]
  },
  {
   "cell_type": "markdown",
   "metadata": {},
   "source": [
    "#### After the de-biaser"
   ]
  },
  {
   "cell_type": "code",
   "execution_count": 28,
   "metadata": {},
   "outputs": [
    {
     "data": {
      "image/png": "[encoded data removed]",
      "text/plain": [
       "<Figure size 432x288 with 1 Axes>"
      ]
     },
     "metadata": {},
     "output_type": "display_data"
    }
   ],
   "source": [
    "ax = sns.distplot(BA_y_pred[Z_test == 0,1], hist=False, \n",
    "                  kde_kws={'shade': True,},\n",
    "                  label='{}'.format('0'))\n",
    "\n",
    "ax = sns.distplot(BA_y_pred[Z_test == 1,1], hist=False, \n",
    "                  kde_kws={'shade': True,},\n",
    "                  label='{}'.format('1'))"
   ]
  },
  {
   "cell_type": "code",
   "execution_count": null,
   "metadata": {},
   "outputs": [],
   "source": []
  },
  {
   "cell_type": "code",
   "execution_count": null,
   "metadata": {},
   "outputs": [],
   "source": []
  }
 ],
 "metadata": {
  "kernelspec": {
   "display_name": "Python 3",
   "language": "python",
   "name": "python3"
  },
  "language_info": {
   "codemirror_mode": {
    "name": "ipython",
    "version": 3
   },
   "file_extension": ".py",
   "mimetype": "text/x-python",
   "name": "python",
   "nbconvert_exporter": "python",
   "pygments_lexer": "ipython3",
   "version": "3.6.5"
  }
 },
 "nbformat": 4,
 "nbformat_minor": 2
}
