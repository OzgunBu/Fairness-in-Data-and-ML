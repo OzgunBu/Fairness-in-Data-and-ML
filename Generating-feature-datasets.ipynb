{
 "cells": [
  {
   "cell_type": "code",
   "execution_count": null,
   "metadata": {},
   "outputs": [],
   "source": [
    "# HIDE\n",
    "import pandas as pd\n",
    "import numpy as np\n",
    "np.random.seed(7)\n",
    "import matplotlib.pyplot as plt\n",
    "import seaborn as sns\n",
    "sns.set(style=\"white\", palette=\"muted\", color_codes=True, context=\"talk\")\n",
    "from IPython import display\n",
    "%matplotlib inline\n",
    "\n",
    "import sklearn as sk\n",
    "from sklearn.model_selection import train_test_split\n",
    "from sklearn.preprocessing import StandardScaler\n",
    "from sklearn.metrics import accuracy_score, roc_auc_score\n",
    "from sklearn.utils.class_weight import compute_class_weight\n",
    "\n",
    "import keras as ke\n",
    "import keras.backend as K\n",
    "from keras.layers import Input, Dense, Dropout\n",
    "from keras.models import Model\n",
    "from keras.models import load_model\n",
    "\n",
    "\n",
    "create_gif = False\n",
    "\n",
    "# model reconstruction from JSON:\n",
    "from keras.models import model_from_json\n",
    "\n",
    "print(f\"sklearn: {sk.__version__}\")\n",
    "print(f\"pandas: {pd.__version__}\")\n",
    "print(f\"kerads: {ke.__version__}\")\n",
    "\n",
    "\n",
    "import src.my_functions_product1 as myFC\n",
    "import matplotlib.pyplot as plt\n"
   ]
  },
  {
   "cell_type": "code",
   "execution_count": null,
   "metadata": {},
   "outputs": [],
   "source": [
    "# reading the file from a path and list the field names and input columns of interest\n",
    "\n",
    "#path = 'data/adult/adult.data'\n",
    "#output_path = 'Feature-Datasets/adult/'\n",
    "#arc_id = 'user1'\n",
    "\n",
    "\n",
    "path = 'data/bank/bank.csv'\n",
    "output_path = 'Feature-Datasets/bank/'\n",
    "arc_id = 'user1'\n",
    "\n",
    "X_df, Ybin, Zbin, result_fname = myFC.read_process_data_output_bias(path)"
   ]
  },
  {
   "cell_type": "markdown",
   "metadata": {},
   "source": [
    "### Feature Creation"
   ]
  },
  {
   "cell_type": "code",
   "execution_count": null,
   "metadata": {},
   "outputs": [],
   "source": [
    "X_train, X_test, y_train, y_test, Z_train, Z_test = myFC.feature_creation(X_df, Ybin, Zbin)"
   ]
  },
  {
   "cell_type": "code",
   "execution_count": null,
   "metadata": {},
   "outputs": [],
   "source": [
    "feature_train_df = X_train.copy()\n",
    "feature_train_df['y'] = y_train\n",
    "feature_train_df['Z'] = Z_train\n",
    "feature_train_df.to_csv(output_path+'train'+'.csv', index=False)\n",
    "\n",
    "feature_test_df = X_test.copy()\n",
    "feature_test_df['y'] = y_test\n",
    "feature_test_df['Z'] = Z_test\n",
    "feature_test_df.to_csv(output_path+'test'+'.csv', index=False)\n",
    "\n",
    "\n"
   ]
  },
  {
   "cell_type": "code",
   "execution_count": null,
   "metadata": {},
   "outputs": [],
   "source": [
    "X_train.head(5)"
   ]
  },
  {
   "cell_type": "markdown",
   "metadata": {},
   "source": [
    "### Setting up architectures"
   ]
  },
  {
   "cell_type": "code",
   "execution_count": null,
   "metadata": {},
   "outputs": [],
   "source": [
    "#==============================================================================\n",
    "def User_Classifier_arch(n_features):\n",
    "    inputs = Input(shape=(n_features,))\n",
    "    dense1 = Dense(32, activation='relu')(inputs)\n",
    "    dropout1 = Dropout(0.2)(dense1)\n",
    "    dense2 = Dense(32, activation='relu')(dropout1)\n",
    "    dropout2 = Dropout(0.2)(dense2)\n",
    "    dense3 = Dense(32, activation=\"relu\")(dropout2)\n",
    "    dropout3 = Dropout(0.2)(dense3)\n",
    "    dense4 = Dense(32, activation=\"relu\")(dropout3)\n",
    "    dropout4 = Dropout(0.2)(dense4)\n",
    "    outputs = Dense(1, activation='sigmoid')(dropout4)\n",
    "    model = Model(inputs=[inputs], outputs=[outputs])\n",
    "    return model    \n",
    "#==============================================================================\n",
    "def User_Adversary_arch(inputs):\n",
    "    dense1 = Dense(32, activation='relu')(inputs)\n",
    "    dense2 = Dense(32, activation='relu')(dense1)\n",
    "    dense3 = Dense(32, activation='relu')(dense2)\n",
    "    dense4 = Dense(32, activation=\"relu\")(dense3)\n",
    "    outputs = Dense(1, activation='sigmoid')(dense4)\n",
    "    return Model(inputs=[inputs], outputs=outputs)   \n",
    "#==============================================================================\n",
    "def User_main_task_adv_architecture(n_features):\n",
    "    main_task_arch = User_Classifier_arch(n_features)\n",
    "    main_task_arch_json_string = main_task_arch.to_json()\n",
    "    adv_inputs = Input(shape=(1,))\n",
    "    adv_task_arch = User_Adversary_arch(adv_inputs)\n",
    "    adv_task_arch_json_string = adv_task_arch.to_json()\n",
    "    return main_task_arch_json_string, adv_task_arch_json_string  "
   ]
  },
  {
   "cell_type": "markdown",
   "metadata": {},
   "source": [
    "## Saving architectures"
   ]
  },
  {
   "cell_type": "code",
   "execution_count": null,
   "metadata": {},
   "outputs": [],
   "source": [
    "n_features = X_train.shape[1]\n",
    "main_task_arch_json_string, adv_task_arch_json_string = User_main_task_adv_architecture(n_features)\n",
    "\n",
    "main_task_arch_json_string_file = output_path+arc_id+'_main_task_arch_json_string_file'+'.txt'\n",
    "with open(main_task_arch_json_string_file,\"wt\") as out_file:\n",
    "    out_file.write(main_task_arch_json_string)\n",
    "    \n",
    "adv_task_arch_json_string_file = output_path+arc_id+'_adv_task_arch_json_string_file'+'.txt'\n",
    "with open(adv_task_arch_json_string_file,\"wt\") as out_file:\n",
    "    out_file.write(adv_task_arch_json_string)    "
   ]
  },
  {
   "cell_type": "markdown",
   "metadata": {},
   "source": [
    "## Model and compile only main task: check prediction results"
   ]
  },
  {
   "cell_type": "code",
   "execution_count": null,
   "metadata": {},
   "outputs": [],
   "source": [
    "h5_file_name = output_path+arc_id+'_main_task_ori_trained_model.h5'\n",
    "save_the_weights = True\n",
    "\n",
    "main_task_accuracy, p_rule_for_Y1, y_pred = myFC.pre_train_main_task(main_task_arch_json_string, X_train, y_train,X_test,y_test,Z_test, save_the_weights=save_the_weights, h5_file_name= h5_file_name)"
   ]
  }
 ],
 "metadata": {
  "kernelspec": {
   "display_name": "Python 3",
   "language": "python",
   "name": "python3"
  },
  "language_info": {
   "codemirror_mode": {
    "name": "ipython",
    "version": 3
   },
   "file_extension": ".py",
   "mimetype": "text/x-python",
   "name": "python",
   "nbconvert_exporter": "python",
   "pygments_lexer": "ipython3",
   "version": "3.6.5"
  }
 },
 "nbformat": 4,
 "nbformat_minor": 2
}
